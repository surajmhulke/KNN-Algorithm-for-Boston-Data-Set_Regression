{
 "cells": [
  {
   "cell_type": "markdown",
   "metadata": {
    "id": "k_MmZUWlqiOs"
   },
   "source": [
    "# Import libararies"
   ]
  },
  {
   "cell_type": "code",
   "execution_count": null,
   "metadata": {},
   "outputs": [],
   "source": []
  },
  {
   "cell_type": "code",
   "execution_count": 1,
   "metadata": {
    "id": "9SHGlXjjn_sl"
   },
   "outputs": [],
   "source": [
    "import pandas as pd\n",
    "import numpy as np\n",
    "from sklearn.preprocessing import MinMaxScaler,StandardScaler # For Scaling\n",
    "from sklearn.model_selection import train_test_split\n",
    "from sklearn.neighbors import KNeighborsRegressor # For KNN Algorithm - Regression Continuous Data\n",
    "from sklearn.metrics import mean_absolute_error,mean_squared_error,r2_score\n",
    "import matplotlib.pyplot as plt\n",
    "import seaborn as sns\n",
    "import pickle\n",
    "import json\n",
    "\n",
    "import warnings # For avoid warning message\n",
    "warnings.filterwarnings(\"ignore\")\n"
   ]
  },
  {
   "cell_type": "code",
   "execution_count": 2,
   "metadata": {
    "colab": {
     "base_uri": "https://localhost:8080/",
     "height": 423
    },
    "id": "tTVQ_iJTol4m",
    "outputId": "e1fa22a8-701c-4d1a-8e3b-d5793615b639"
   },
   "outputs": [
    {
     "data": {
      "text/html": [
       "<div>\n",
       "<style scoped>\n",
       "    .dataframe tbody tr th:only-of-type {\n",
       "        vertical-align: middle;\n",
       "    }\n",
       "\n",
       "    .dataframe tbody tr th {\n",
       "        vertical-align: top;\n",
       "    }\n",
       "\n",
       "    .dataframe thead th {\n",
       "        text-align: right;\n",
       "    }\n",
       "</style>\n",
       "<table border=\"1\" class=\"dataframe\">\n",
       "  <thead>\n",
       "    <tr style=\"text-align: right;\">\n",
       "      <th></th>\n",
       "      <th>Unnamed: 0</th>\n",
       "      <th>crim</th>\n",
       "      <th>zn</th>\n",
       "      <th>indus</th>\n",
       "      <th>chas</th>\n",
       "      <th>nox</th>\n",
       "      <th>rm</th>\n",
       "      <th>age</th>\n",
       "      <th>dis</th>\n",
       "      <th>rad</th>\n",
       "      <th>tax</th>\n",
       "      <th>ptratio</th>\n",
       "      <th>black</th>\n",
       "      <th>lstat</th>\n",
       "      <th>medv</th>\n",
       "    </tr>\n",
       "  </thead>\n",
       "  <tbody>\n",
       "    <tr>\n",
       "      <th>0</th>\n",
       "      <td>1</td>\n",
       "      <td>0.00632</td>\n",
       "      <td>18.0</td>\n",
       "      <td>2.31</td>\n",
       "      <td>0</td>\n",
       "      <td>0.538</td>\n",
       "      <td>6.575</td>\n",
       "      <td>65.2</td>\n",
       "      <td>4.0900</td>\n",
       "      <td>1</td>\n",
       "      <td>296</td>\n",
       "      <td>15.3</td>\n",
       "      <td>396.90</td>\n",
       "      <td>4.98</td>\n",
       "      <td>24.0</td>\n",
       "    </tr>\n",
       "    <tr>\n",
       "      <th>1</th>\n",
       "      <td>2</td>\n",
       "      <td>0.02731</td>\n",
       "      <td>0.0</td>\n",
       "      <td>7.07</td>\n",
       "      <td>0</td>\n",
       "      <td>0.469</td>\n",
       "      <td>6.421</td>\n",
       "      <td>78.9</td>\n",
       "      <td>4.9671</td>\n",
       "      <td>2</td>\n",
       "      <td>242</td>\n",
       "      <td>17.8</td>\n",
       "      <td>396.90</td>\n",
       "      <td>9.14</td>\n",
       "      <td>21.6</td>\n",
       "    </tr>\n",
       "    <tr>\n",
       "      <th>2</th>\n",
       "      <td>3</td>\n",
       "      <td>0.02729</td>\n",
       "      <td>0.0</td>\n",
       "      <td>7.07</td>\n",
       "      <td>0</td>\n",
       "      <td>0.469</td>\n",
       "      <td>7.185</td>\n",
       "      <td>61.1</td>\n",
       "      <td>4.9671</td>\n",
       "      <td>2</td>\n",
       "      <td>242</td>\n",
       "      <td>17.8</td>\n",
       "      <td>392.83</td>\n",
       "      <td>4.03</td>\n",
       "      <td>34.7</td>\n",
       "    </tr>\n",
       "    <tr>\n",
       "      <th>3</th>\n",
       "      <td>4</td>\n",
       "      <td>0.03237</td>\n",
       "      <td>0.0</td>\n",
       "      <td>2.18</td>\n",
       "      <td>0</td>\n",
       "      <td>0.458</td>\n",
       "      <td>6.998</td>\n",
       "      <td>45.8</td>\n",
       "      <td>6.0622</td>\n",
       "      <td>3</td>\n",
       "      <td>222</td>\n",
       "      <td>18.7</td>\n",
       "      <td>394.63</td>\n",
       "      <td>2.94</td>\n",
       "      <td>33.4</td>\n",
       "    </tr>\n",
       "    <tr>\n",
       "      <th>4</th>\n",
       "      <td>5</td>\n",
       "      <td>0.06905</td>\n",
       "      <td>0.0</td>\n",
       "      <td>2.18</td>\n",
       "      <td>0</td>\n",
       "      <td>0.458</td>\n",
       "      <td>7.147</td>\n",
       "      <td>54.2</td>\n",
       "      <td>6.0622</td>\n",
       "      <td>3</td>\n",
       "      <td>222</td>\n",
       "      <td>18.7</td>\n",
       "      <td>396.90</td>\n",
       "      <td>5.33</td>\n",
       "      <td>36.2</td>\n",
       "    </tr>\n",
       "    <tr>\n",
       "      <th>...</th>\n",
       "      <td>...</td>\n",
       "      <td>...</td>\n",
       "      <td>...</td>\n",
       "      <td>...</td>\n",
       "      <td>...</td>\n",
       "      <td>...</td>\n",
       "      <td>...</td>\n",
       "      <td>...</td>\n",
       "      <td>...</td>\n",
       "      <td>...</td>\n",
       "      <td>...</td>\n",
       "      <td>...</td>\n",
       "      <td>...</td>\n",
       "      <td>...</td>\n",
       "      <td>...</td>\n",
       "    </tr>\n",
       "    <tr>\n",
       "      <th>501</th>\n",
       "      <td>502</td>\n",
       "      <td>0.06263</td>\n",
       "      <td>0.0</td>\n",
       "      <td>11.93</td>\n",
       "      <td>0</td>\n",
       "      <td>0.573</td>\n",
       "      <td>6.593</td>\n",
       "      <td>69.1</td>\n",
       "      <td>2.4786</td>\n",
       "      <td>1</td>\n",
       "      <td>273</td>\n",
       "      <td>21.0</td>\n",
       "      <td>391.99</td>\n",
       "      <td>9.67</td>\n",
       "      <td>22.4</td>\n",
       "    </tr>\n",
       "    <tr>\n",
       "      <th>502</th>\n",
       "      <td>503</td>\n",
       "      <td>0.04527</td>\n",
       "      <td>0.0</td>\n",
       "      <td>11.93</td>\n",
       "      <td>0</td>\n",
       "      <td>0.573</td>\n",
       "      <td>6.120</td>\n",
       "      <td>76.7</td>\n",
       "      <td>2.2875</td>\n",
       "      <td>1</td>\n",
       "      <td>273</td>\n",
       "      <td>21.0</td>\n",
       "      <td>396.90</td>\n",
       "      <td>9.08</td>\n",
       "      <td>20.6</td>\n",
       "    </tr>\n",
       "    <tr>\n",
       "      <th>503</th>\n",
       "      <td>504</td>\n",
       "      <td>0.06076</td>\n",
       "      <td>0.0</td>\n",
       "      <td>11.93</td>\n",
       "      <td>0</td>\n",
       "      <td>0.573</td>\n",
       "      <td>6.976</td>\n",
       "      <td>91.0</td>\n",
       "      <td>2.1675</td>\n",
       "      <td>1</td>\n",
       "      <td>273</td>\n",
       "      <td>21.0</td>\n",
       "      <td>396.90</td>\n",
       "      <td>5.64</td>\n",
       "      <td>23.9</td>\n",
       "    </tr>\n",
       "    <tr>\n",
       "      <th>504</th>\n",
       "      <td>505</td>\n",
       "      <td>0.10959</td>\n",
       "      <td>0.0</td>\n",
       "      <td>11.93</td>\n",
       "      <td>0</td>\n",
       "      <td>0.573</td>\n",
       "      <td>6.794</td>\n",
       "      <td>89.3</td>\n",
       "      <td>2.3889</td>\n",
       "      <td>1</td>\n",
       "      <td>273</td>\n",
       "      <td>21.0</td>\n",
       "      <td>393.45</td>\n",
       "      <td>6.48</td>\n",
       "      <td>22.0</td>\n",
       "    </tr>\n",
       "    <tr>\n",
       "      <th>505</th>\n",
       "      <td>506</td>\n",
       "      <td>0.04741</td>\n",
       "      <td>0.0</td>\n",
       "      <td>11.93</td>\n",
       "      <td>0</td>\n",
       "      <td>0.573</td>\n",
       "      <td>6.030</td>\n",
       "      <td>80.8</td>\n",
       "      <td>2.5050</td>\n",
       "      <td>1</td>\n",
       "      <td>273</td>\n",
       "      <td>21.0</td>\n",
       "      <td>396.90</td>\n",
       "      <td>7.88</td>\n",
       "      <td>11.9</td>\n",
       "    </tr>\n",
       "  </tbody>\n",
       "</table>\n",
       "<p>506 rows × 15 columns</p>\n",
       "</div>"
      ],
      "text/plain": [
       "     Unnamed: 0     crim    zn  indus  chas    nox     rm   age     dis  rad  \\\n",
       "0             1  0.00632  18.0   2.31     0  0.538  6.575  65.2  4.0900    1   \n",
       "1             2  0.02731   0.0   7.07     0  0.469  6.421  78.9  4.9671    2   \n",
       "2             3  0.02729   0.0   7.07     0  0.469  7.185  61.1  4.9671    2   \n",
       "3             4  0.03237   0.0   2.18     0  0.458  6.998  45.8  6.0622    3   \n",
       "4             5  0.06905   0.0   2.18     0  0.458  7.147  54.2  6.0622    3   \n",
       "..          ...      ...   ...    ...   ...    ...    ...   ...     ...  ...   \n",
       "501         502  0.06263   0.0  11.93     0  0.573  6.593  69.1  2.4786    1   \n",
       "502         503  0.04527   0.0  11.93     0  0.573  6.120  76.7  2.2875    1   \n",
       "503         504  0.06076   0.0  11.93     0  0.573  6.976  91.0  2.1675    1   \n",
       "504         505  0.10959   0.0  11.93     0  0.573  6.794  89.3  2.3889    1   \n",
       "505         506  0.04741   0.0  11.93     0  0.573  6.030  80.8  2.5050    1   \n",
       "\n",
       "     tax  ptratio   black  lstat  medv  \n",
       "0    296     15.3  396.90   4.98  24.0  \n",
       "1    242     17.8  396.90   9.14  21.6  \n",
       "2    242     17.8  392.83   4.03  34.7  \n",
       "3    222     18.7  394.63   2.94  33.4  \n",
       "4    222     18.7  396.90   5.33  36.2  \n",
       "..   ...      ...     ...    ...   ...  \n",
       "501  273     21.0  391.99   9.67  22.4  \n",
       "502  273     21.0  396.90   9.08  20.6  \n",
       "503  273     21.0  396.90   5.64  23.9  \n",
       "504  273     21.0  393.45   6.48  22.0  \n",
       "505  273     21.0  396.90   7.88  11.9  \n",
       "\n",
       "[506 rows x 15 columns]"
      ]
     },
     "execution_count": 2,
     "metadata": {},
     "output_type": "execute_result"
    }
   ],
   "source": [
    "df =  pd.read_csv(r'C:\\Users\\pc\\Desktop\\KNN Algorithm for Boston Data Set_Regression\\Boston Dataset.csv')\n",
    "#target = df[\"PRICE\"]\n",
    "df"
   ]
  },
  {
   "cell_type": "code",
   "execution_count": 3,
   "metadata": {
    "colab": {
     "base_uri": "https://localhost:8080/"
    },
    "id": "wFyg3sEapU36",
    "outputId": "d2d2a76f-9d02-4551-e20a-45e7bc013b47"
   },
   "outputs": [
    {
     "name": "stdout",
     "output_type": "stream",
     "text": [
      "<class 'pandas.core.frame.DataFrame'>\n",
      "RangeIndex: 506 entries, 0 to 505\n",
      "Data columns (total 15 columns):\n",
      " #   Column      Non-Null Count  Dtype  \n",
      "---  ------      --------------  -----  \n",
      " 0   Unnamed: 0  506 non-null    int64  \n",
      " 1   crim        506 non-null    float64\n",
      " 2   zn          506 non-null    float64\n",
      " 3   indus       506 non-null    float64\n",
      " 4   chas        506 non-null    int64  \n",
      " 5   nox         506 non-null    float64\n",
      " 6   rm          506 non-null    float64\n",
      " 7   age         506 non-null    float64\n",
      " 8   dis         506 non-null    float64\n",
      " 9   rad         506 non-null    int64  \n",
      " 10  tax         506 non-null    int64  \n",
      " 11  ptratio     506 non-null    float64\n",
      " 12  black       506 non-null    float64\n",
      " 13  lstat       506 non-null    float64\n",
      " 14  medv        506 non-null    float64\n",
      "dtypes: float64(11), int64(4)\n",
      "memory usage: 59.4 KB\n"
     ]
    }
   ],
   "source": [
    "df.info()"
   ]
  },
  {
   "cell_type": "code",
   "execution_count": 4,
   "metadata": {
    "colab": {
     "base_uri": "https://localhost:8080/",
     "height": 337
    },
    "id": "wnFXRl9SpXyd",
    "outputId": "13d77126-57d0-4a47-8166-cb2a7498135d"
   },
   "outputs": [
    {
     "data": {
      "text/html": [
       "<div>\n",
       "<style scoped>\n",
       "    .dataframe tbody tr th:only-of-type {\n",
       "        vertical-align: middle;\n",
       "    }\n",
       "\n",
       "    .dataframe tbody tr th {\n",
       "        vertical-align: top;\n",
       "    }\n",
       "\n",
       "    .dataframe thead th {\n",
       "        text-align: right;\n",
       "    }\n",
       "</style>\n",
       "<table border=\"1\" class=\"dataframe\">\n",
       "  <thead>\n",
       "    <tr style=\"text-align: right;\">\n",
       "      <th></th>\n",
       "      <th>Unnamed: 0</th>\n",
       "      <th>crim</th>\n",
       "      <th>zn</th>\n",
       "      <th>indus</th>\n",
       "      <th>chas</th>\n",
       "      <th>nox</th>\n",
       "      <th>rm</th>\n",
       "      <th>age</th>\n",
       "      <th>dis</th>\n",
       "      <th>rad</th>\n",
       "      <th>tax</th>\n",
       "      <th>ptratio</th>\n",
       "      <th>black</th>\n",
       "      <th>lstat</th>\n",
       "      <th>medv</th>\n",
       "    </tr>\n",
       "  </thead>\n",
       "  <tbody>\n",
       "    <tr>\n",
       "      <th>count</th>\n",
       "      <td>506.000000</td>\n",
       "      <td>506.000000</td>\n",
       "      <td>506.000000</td>\n",
       "      <td>506.000000</td>\n",
       "      <td>506.000000</td>\n",
       "      <td>506.000000</td>\n",
       "      <td>506.000000</td>\n",
       "      <td>506.000000</td>\n",
       "      <td>506.000000</td>\n",
       "      <td>506.000000</td>\n",
       "      <td>506.000000</td>\n",
       "      <td>506.000000</td>\n",
       "      <td>506.000000</td>\n",
       "      <td>506.000000</td>\n",
       "      <td>506.000000</td>\n",
       "    </tr>\n",
       "    <tr>\n",
       "      <th>mean</th>\n",
       "      <td>253.500000</td>\n",
       "      <td>3.613524</td>\n",
       "      <td>11.363636</td>\n",
       "      <td>11.136779</td>\n",
       "      <td>0.069170</td>\n",
       "      <td>0.554695</td>\n",
       "      <td>6.284634</td>\n",
       "      <td>68.574901</td>\n",
       "      <td>3.795043</td>\n",
       "      <td>9.549407</td>\n",
       "      <td>408.237154</td>\n",
       "      <td>18.455534</td>\n",
       "      <td>356.674032</td>\n",
       "      <td>12.653063</td>\n",
       "      <td>22.532806</td>\n",
       "    </tr>\n",
       "    <tr>\n",
       "      <th>std</th>\n",
       "      <td>146.213884</td>\n",
       "      <td>8.601545</td>\n",
       "      <td>23.322453</td>\n",
       "      <td>6.860353</td>\n",
       "      <td>0.253994</td>\n",
       "      <td>0.115878</td>\n",
       "      <td>0.702617</td>\n",
       "      <td>28.148861</td>\n",
       "      <td>2.105710</td>\n",
       "      <td>8.707259</td>\n",
       "      <td>168.537116</td>\n",
       "      <td>2.164946</td>\n",
       "      <td>91.294864</td>\n",
       "      <td>7.141062</td>\n",
       "      <td>9.197104</td>\n",
       "    </tr>\n",
       "    <tr>\n",
       "      <th>min</th>\n",
       "      <td>1.000000</td>\n",
       "      <td>0.006320</td>\n",
       "      <td>0.000000</td>\n",
       "      <td>0.460000</td>\n",
       "      <td>0.000000</td>\n",
       "      <td>0.385000</td>\n",
       "      <td>3.561000</td>\n",
       "      <td>2.900000</td>\n",
       "      <td>1.129600</td>\n",
       "      <td>1.000000</td>\n",
       "      <td>187.000000</td>\n",
       "      <td>12.600000</td>\n",
       "      <td>0.320000</td>\n",
       "      <td>1.730000</td>\n",
       "      <td>5.000000</td>\n",
       "    </tr>\n",
       "    <tr>\n",
       "      <th>25%</th>\n",
       "      <td>127.250000</td>\n",
       "      <td>0.082045</td>\n",
       "      <td>0.000000</td>\n",
       "      <td>5.190000</td>\n",
       "      <td>0.000000</td>\n",
       "      <td>0.449000</td>\n",
       "      <td>5.885500</td>\n",
       "      <td>45.025000</td>\n",
       "      <td>2.100175</td>\n",
       "      <td>4.000000</td>\n",
       "      <td>279.000000</td>\n",
       "      <td>17.400000</td>\n",
       "      <td>375.377500</td>\n",
       "      <td>6.950000</td>\n",
       "      <td>17.025000</td>\n",
       "    </tr>\n",
       "    <tr>\n",
       "      <th>50%</th>\n",
       "      <td>253.500000</td>\n",
       "      <td>0.256510</td>\n",
       "      <td>0.000000</td>\n",
       "      <td>9.690000</td>\n",
       "      <td>0.000000</td>\n",
       "      <td>0.538000</td>\n",
       "      <td>6.208500</td>\n",
       "      <td>77.500000</td>\n",
       "      <td>3.207450</td>\n",
       "      <td>5.000000</td>\n",
       "      <td>330.000000</td>\n",
       "      <td>19.050000</td>\n",
       "      <td>391.440000</td>\n",
       "      <td>11.360000</td>\n",
       "      <td>21.200000</td>\n",
       "    </tr>\n",
       "    <tr>\n",
       "      <th>75%</th>\n",
       "      <td>379.750000</td>\n",
       "      <td>3.677083</td>\n",
       "      <td>12.500000</td>\n",
       "      <td>18.100000</td>\n",
       "      <td>0.000000</td>\n",
       "      <td>0.624000</td>\n",
       "      <td>6.623500</td>\n",
       "      <td>94.075000</td>\n",
       "      <td>5.188425</td>\n",
       "      <td>24.000000</td>\n",
       "      <td>666.000000</td>\n",
       "      <td>20.200000</td>\n",
       "      <td>396.225000</td>\n",
       "      <td>16.955000</td>\n",
       "      <td>25.000000</td>\n",
       "    </tr>\n",
       "    <tr>\n",
       "      <th>max</th>\n",
       "      <td>506.000000</td>\n",
       "      <td>88.976200</td>\n",
       "      <td>100.000000</td>\n",
       "      <td>27.740000</td>\n",
       "      <td>1.000000</td>\n",
       "      <td>0.871000</td>\n",
       "      <td>8.780000</td>\n",
       "      <td>100.000000</td>\n",
       "      <td>12.126500</td>\n",
       "      <td>24.000000</td>\n",
       "      <td>711.000000</td>\n",
       "      <td>22.000000</td>\n",
       "      <td>396.900000</td>\n",
       "      <td>37.970000</td>\n",
       "      <td>50.000000</td>\n",
       "    </tr>\n",
       "  </tbody>\n",
       "</table>\n",
       "</div>"
      ],
      "text/plain": [
       "       Unnamed: 0        crim          zn       indus        chas         nox  \\\n",
       "count  506.000000  506.000000  506.000000  506.000000  506.000000  506.000000   \n",
       "mean   253.500000    3.613524   11.363636   11.136779    0.069170    0.554695   \n",
       "std    146.213884    8.601545   23.322453    6.860353    0.253994    0.115878   \n",
       "min      1.000000    0.006320    0.000000    0.460000    0.000000    0.385000   \n",
       "25%    127.250000    0.082045    0.000000    5.190000    0.000000    0.449000   \n",
       "50%    253.500000    0.256510    0.000000    9.690000    0.000000    0.538000   \n",
       "75%    379.750000    3.677083   12.500000   18.100000    0.000000    0.624000   \n",
       "max    506.000000   88.976200  100.000000   27.740000    1.000000    0.871000   \n",
       "\n",
       "               rm         age         dis         rad         tax     ptratio  \\\n",
       "count  506.000000  506.000000  506.000000  506.000000  506.000000  506.000000   \n",
       "mean     6.284634   68.574901    3.795043    9.549407  408.237154   18.455534   \n",
       "std      0.702617   28.148861    2.105710    8.707259  168.537116    2.164946   \n",
       "min      3.561000    2.900000    1.129600    1.000000  187.000000   12.600000   \n",
       "25%      5.885500   45.025000    2.100175    4.000000  279.000000   17.400000   \n",
       "50%      6.208500   77.500000    3.207450    5.000000  330.000000   19.050000   \n",
       "75%      6.623500   94.075000    5.188425   24.000000  666.000000   20.200000   \n",
       "max      8.780000  100.000000   12.126500   24.000000  711.000000   22.000000   \n",
       "\n",
       "            black       lstat        medv  \n",
       "count  506.000000  506.000000  506.000000  \n",
       "mean   356.674032   12.653063   22.532806  \n",
       "std     91.294864    7.141062    9.197104  \n",
       "min      0.320000    1.730000    5.000000  \n",
       "25%    375.377500    6.950000   17.025000  \n",
       "50%    391.440000   11.360000   21.200000  \n",
       "75%    396.225000   16.955000   25.000000  \n",
       "max    396.900000   37.970000   50.000000  "
      ]
     },
     "execution_count": 4,
     "metadata": {},
     "output_type": "execute_result"
    }
   ],
   "source": [
    "df.describe()"
   ]
  },
  {
   "cell_type": "markdown",
   "metadata": {
    "id": "fHlPWix9qr_j"
   },
   "source": [
    "#Train Test Split"
   ]
  },
  {
   "cell_type": "code",
   "execution_count": 5,
   "metadata": {
    "id": "uX6zsu1ypZxG"
   },
   "outputs": [],
   "source": [
    "x = df.drop(\"medv\",axis = 1)\n",
    "y= df[\"medv\"]\n",
    "x_train,x_test,y_train,y_test = train_test_split(x,y,test_size=0.30,random_state=42)"
   ]
  },
  {
   "cell_type": "markdown",
   "metadata": {
    "id": "bTghh2sKrEAr"
   },
   "source": [
    "#Model Training"
   ]
  },
  {
   "cell_type": "code",
   "execution_count": 6,
   "metadata": {
    "colab": {
     "base_uri": "https://localhost:8080/",
     "height": 74
    },
    "id": "D71J-PxwrBO8",
    "outputId": "7513b72c-9b78-4311-9148-9859228dbc35"
   },
   "outputs": [
    {
     "data": {
      "text/html": [
       "<style>#sk-container-id-1 {color: black;}#sk-container-id-1 pre{padding: 0;}#sk-container-id-1 div.sk-toggleable {background-color: white;}#sk-container-id-1 label.sk-toggleable__label {cursor: pointer;display: block;width: 100%;margin-bottom: 0;padding: 0.3em;box-sizing: border-box;text-align: center;}#sk-container-id-1 label.sk-toggleable__label-arrow:before {content: \"▸\";float: left;margin-right: 0.25em;color: #696969;}#sk-container-id-1 label.sk-toggleable__label-arrow:hover:before {color: black;}#sk-container-id-1 div.sk-estimator:hover label.sk-toggleable__label-arrow:before {color: black;}#sk-container-id-1 div.sk-toggleable__content {max-height: 0;max-width: 0;overflow: hidden;text-align: left;background-color: #f0f8ff;}#sk-container-id-1 div.sk-toggleable__content pre {margin: 0.2em;color: black;border-radius: 0.25em;background-color: #f0f8ff;}#sk-container-id-1 input.sk-toggleable__control:checked~div.sk-toggleable__content {max-height: 200px;max-width: 100%;overflow: auto;}#sk-container-id-1 input.sk-toggleable__control:checked~label.sk-toggleable__label-arrow:before {content: \"▾\";}#sk-container-id-1 div.sk-estimator input.sk-toggleable__control:checked~label.sk-toggleable__label {background-color: #d4ebff;}#sk-container-id-1 div.sk-label input.sk-toggleable__control:checked~label.sk-toggleable__label {background-color: #d4ebff;}#sk-container-id-1 input.sk-hidden--visually {border: 0;clip: rect(1px 1px 1px 1px);clip: rect(1px, 1px, 1px, 1px);height: 1px;margin: -1px;overflow: hidden;padding: 0;position: absolute;width: 1px;}#sk-container-id-1 div.sk-estimator {font-family: monospace;background-color: #f0f8ff;border: 1px dotted black;border-radius: 0.25em;box-sizing: border-box;margin-bottom: 0.5em;}#sk-container-id-1 div.sk-estimator:hover {background-color: #d4ebff;}#sk-container-id-1 div.sk-parallel-item::after {content: \"\";width: 100%;border-bottom: 1px solid gray;flex-grow: 1;}#sk-container-id-1 div.sk-label:hover label.sk-toggleable__label {background-color: #d4ebff;}#sk-container-id-1 div.sk-serial::before {content: \"\";position: absolute;border-left: 1px solid gray;box-sizing: border-box;top: 0;bottom: 0;left: 50%;z-index: 0;}#sk-container-id-1 div.sk-serial {display: flex;flex-direction: column;align-items: center;background-color: white;padding-right: 0.2em;padding-left: 0.2em;position: relative;}#sk-container-id-1 div.sk-item {position: relative;z-index: 1;}#sk-container-id-1 div.sk-parallel {display: flex;align-items: stretch;justify-content: center;background-color: white;position: relative;}#sk-container-id-1 div.sk-item::before, #sk-container-id-1 div.sk-parallel-item::before {content: \"\";position: absolute;border-left: 1px solid gray;box-sizing: border-box;top: 0;bottom: 0;left: 50%;z-index: -1;}#sk-container-id-1 div.sk-parallel-item {display: flex;flex-direction: column;z-index: 1;position: relative;background-color: white;}#sk-container-id-1 div.sk-parallel-item:first-child::after {align-self: flex-end;width: 50%;}#sk-container-id-1 div.sk-parallel-item:last-child::after {align-self: flex-start;width: 50%;}#sk-container-id-1 div.sk-parallel-item:only-child::after {width: 0;}#sk-container-id-1 div.sk-dashed-wrapped {border: 1px dashed gray;margin: 0 0.4em 0.5em 0.4em;box-sizing: border-box;padding-bottom: 0.4em;background-color: white;}#sk-container-id-1 div.sk-label label {font-family: monospace;font-weight: bold;display: inline-block;line-height: 1.2em;}#sk-container-id-1 div.sk-label-container {text-align: center;}#sk-container-id-1 div.sk-container {/* jupyter's `normalize.less` sets `[hidden] { display: none; }` but bootstrap.min.css set `[hidden] { display: none !important; }` so we also need the `!important` here to be able to override the default hidden behavior on the sphinx rendered scikit-learn.org. See: https://github.com/scikit-learn/scikit-learn/issues/21755 */display: inline-block !important;position: relative;}#sk-container-id-1 div.sk-text-repr-fallback {display: none;}</style><div id=\"sk-container-id-1\" class=\"sk-top-container\"><div class=\"sk-text-repr-fallback\"><pre>KNeighborsRegressor()</pre><b>In a Jupyter environment, please rerun this cell to show the HTML representation or trust the notebook. <br />On GitHub, the HTML representation is unable to render, please try loading this page with nbviewer.org.</b></div><div class=\"sk-container\" hidden><div class=\"sk-item\"><div class=\"sk-estimator sk-toggleable\"><input class=\"sk-toggleable__control sk-hidden--visually\" id=\"sk-estimator-id-1\" type=\"checkbox\" checked><label for=\"sk-estimator-id-1\" class=\"sk-toggleable__label sk-toggleable__label-arrow\">KNeighborsRegressor</label><div class=\"sk-toggleable__content\"><pre>KNeighborsRegressor()</pre></div></div></div></div></div>"
      ],
      "text/plain": [
       "KNeighborsRegressor()"
      ]
     },
     "execution_count": 6,
     "metadata": {},
     "output_type": "execute_result"
    }
   ],
   "source": [
    "knn_reg = KNeighborsRegressor()\n",
    "knn_reg.fit(x_train,y_train)"
   ]
  },
  {
   "cell_type": "markdown",
   "metadata": {
    "id": "7aGtqPGyrOrW"
   },
   "source": [
    "#Evaluation"
   ]
  },
  {
   "cell_type": "code",
   "execution_count": 7,
   "metadata": {
    "colab": {
     "base_uri": "https://localhost:8080/"
    },
    "id": "cnJOgkP4rLxp",
    "outputId": "292ca67b-d252-4d87-f59e-1b8aec29de48"
   },
   "outputs": [
    {
     "data": {
      "text/plain": [
       "array([21.38, 33.66, 38.06, 21.82, 28.8 ])"
      ]
     },
     "execution_count": 7,
     "metadata": {},
     "output_type": "execute_result"
    }
   ],
   "source": [
    "y_pred = knn_reg.predict(x_test)\n",
    "y_pred[40:45] # Y predicted\n"
   ]
  },
  {
   "cell_type": "code",
   "execution_count": 8,
   "metadata": {
    "colab": {
     "base_uri": "https://localhost:8080/"
    },
    "id": "-GkLil3xrWHT",
    "outputId": "8854e250-d2de-4e41-d115-854ecb0743b7"
   },
   "outputs": [
    {
     "data": {
      "text/plain": [
       "496    19.7\n",
       "307    28.2\n",
       "204    50.0\n",
       "68     17.4\n",
       "90     22.6\n",
       "Name: medv, dtype: float64"
      ]
     },
     "execution_count": 8,
     "metadata": {},
     "output_type": "execute_result"
    }
   ],
   "source": [
    "y_test[40:45]"
   ]
  },
  {
   "cell_type": "code",
   "execution_count": 9,
   "metadata": {
    "colab": {
     "base_uri": "https://localhost:8080/",
     "height": 143
    },
    "id": "dOLzNDjsrcoD",
    "outputId": "a8e12753-ab27-442a-8fc0-b38e341e6a8e"
   },
   "outputs": [
    {
     "data": {
      "text/html": [
       "<div>\n",
       "<style scoped>\n",
       "    .dataframe tbody tr th:only-of-type {\n",
       "        vertical-align: middle;\n",
       "    }\n",
       "\n",
       "    .dataframe tbody tr th {\n",
       "        vertical-align: top;\n",
       "    }\n",
       "\n",
       "    .dataframe thead th {\n",
       "        text-align: right;\n",
       "    }\n",
       "</style>\n",
       "<table border=\"1\" class=\"dataframe\">\n",
       "  <thead>\n",
       "    <tr style=\"text-align: right;\">\n",
       "      <th></th>\n",
       "      <th>Unnamed: 0</th>\n",
       "      <th>crim</th>\n",
       "      <th>zn</th>\n",
       "      <th>indus</th>\n",
       "      <th>chas</th>\n",
       "      <th>nox</th>\n",
       "      <th>rm</th>\n",
       "      <th>age</th>\n",
       "      <th>dis</th>\n",
       "      <th>rad</th>\n",
       "      <th>tax</th>\n",
       "      <th>ptratio</th>\n",
       "      <th>black</th>\n",
       "      <th>lstat</th>\n",
       "    </tr>\n",
       "  </thead>\n",
       "  <tbody>\n",
       "    <tr>\n",
       "      <th>173</th>\n",
       "      <td>174</td>\n",
       "      <td>0.09178</td>\n",
       "      <td>0.0</td>\n",
       "      <td>4.05</td>\n",
       "      <td>0</td>\n",
       "      <td>0.510</td>\n",
       "      <td>6.416</td>\n",
       "      <td>84.1</td>\n",
       "      <td>2.6463</td>\n",
       "      <td>5</td>\n",
       "      <td>296</td>\n",
       "      <td>16.6</td>\n",
       "      <td>395.50</td>\n",
       "      <td>9.04</td>\n",
       "    </tr>\n",
       "    <tr>\n",
       "      <th>274</th>\n",
       "      <td>275</td>\n",
       "      <td>0.05644</td>\n",
       "      <td>40.0</td>\n",
       "      <td>6.41</td>\n",
       "      <td>1</td>\n",
       "      <td>0.447</td>\n",
       "      <td>6.758</td>\n",
       "      <td>32.9</td>\n",
       "      <td>4.0776</td>\n",
       "      <td>4</td>\n",
       "      <td>254</td>\n",
       "      <td>17.6</td>\n",
       "      <td>396.90</td>\n",
       "      <td>3.53</td>\n",
       "    </tr>\n",
       "    <tr>\n",
       "      <th>491</th>\n",
       "      <td>492</td>\n",
       "      <td>0.10574</td>\n",
       "      <td>0.0</td>\n",
       "      <td>27.74</td>\n",
       "      <td>0</td>\n",
       "      <td>0.609</td>\n",
       "      <td>5.983</td>\n",
       "      <td>98.8</td>\n",
       "      <td>1.8681</td>\n",
       "      <td>4</td>\n",
       "      <td>711</td>\n",
       "      <td>20.1</td>\n",
       "      <td>390.11</td>\n",
       "      <td>18.07</td>\n",
       "    </tr>\n",
       "  </tbody>\n",
       "</table>\n",
       "</div>"
      ],
      "text/plain": [
       "     Unnamed: 0     crim    zn  indus  chas    nox     rm   age     dis  rad  \\\n",
       "173         174  0.09178   0.0   4.05     0  0.510  6.416  84.1  2.6463    5   \n",
       "274         275  0.05644  40.0   6.41     1  0.447  6.758  32.9  4.0776    4   \n",
       "491         492  0.10574   0.0  27.74     0  0.609  5.983  98.8  1.8681    4   \n",
       "\n",
       "     tax  ptratio   black  lstat  \n",
       "173  296     16.6  395.50   9.04  \n",
       "274  254     17.6  396.90   3.53  \n",
       "491  711     20.1  390.11  18.07  "
      ]
     },
     "execution_count": 9,
     "metadata": {},
     "output_type": "execute_result"
    }
   ],
   "source": [
    "x_test.head(3)"
   ]
  },
  {
   "cell_type": "markdown",
   "metadata": {
    "id": "bDtoZx0Brh0b"
   },
   "source": [
    "#Testing data Accuracy"
   ]
  },
  {
   "cell_type": "code",
   "execution_count": 10,
   "metadata": {
    "colab": {
     "base_uri": "https://localhost:8080/"
    },
    "id": "p2LlmN2nrgFf",
    "outputId": "2036a353-4f24-4b91-b172-cd6d000b7903"
   },
   "outputs": [
    {
     "name": "stdout",
     "output_type": "stream",
     "text": [
      "MSE: 25.20848421052631\n",
      "RMSE: 5.020805135685542\n",
      "MAE : 3.7239473684210522\n",
      "R-Squared value: 0.6616905522658597\n"
     ]
    }
   ],
   "source": [
    "#Testing data Accuracy\n",
    "y_pred = knn_reg.predict(x_test)\n",
    "mse = mean_squared_error(y_test,y_pred)\n",
    "print(\"MSE:\",mse)\n",
    "rmse = np.sqrt(mse)\n",
    "print(\"RMSE:\",rmse)\n",
    "mae = mean_absolute_error(y_test,y_pred)\n",
    "print(\"MAE :\",mae)\n",
    "r2_value = r2_score(y_test,y_pred)\n",
    "print(\"R-Squared value:\",r2_value)"
   ]
  },
  {
   "cell_type": "markdown",
   "metadata": {
    "id": "957csjh3rnqu"
   },
   "source": [
    "#Training data Accuracy"
   ]
  },
  {
   "cell_type": "code",
   "execution_count": 11,
   "metadata": {
    "id": "fpwlDbKSrgIE"
   },
   "outputs": [
    {
     "name": "stdout",
     "output_type": "stream",
     "text": [
      "MSE: 26.558253107344633\n",
      "RMSE: 5.153470006446591\n",
      "MAE : 3.5602259887005654\n",
      "R-Squared value: 0.6978463963877217\n"
     ]
    }
   ],
   "source": [
    "\n",
    "y_pred_train = knn_reg.predict(x_train)\n",
    "mse = mean_squared_error(y_train,y_pred_train)\n",
    "print(\"MSE:\",mse)\n",
    "rmse = np.sqrt(mse)\n",
    "print(\"RMSE:\",rmse)\n",
    "mae = mean_absolute_error(y_train,y_pred_train)\n",
    "print(\"MAE :\",mae)\n",
    "r2_value = r2_score(y_train,y_pred_train)\n",
    "print(\"R-Squared value:\",r2_value)"
   ]
  },
  {
   "cell_type": "markdown",
   "metadata": {
    "id": "cINXEl4zrq7V"
   },
   "source": [
    "#STAGE 2\n",
    "Train the model by Best values of K and p\n",
    "Insted of Hyperparametric Tunning , We use another alternate method to find out \"K\" value\n",
    "Prefer Hyperparametric Tunning , this method is only for Information"
   ]
  },
  {
   "cell_type": "code",
   "execution_count": 12,
   "metadata": {
    "colab": {
     "base_uri": "https://localhost:8080/"
    },
    "id": "uSrJdSmNrvZX",
    "outputId": "be22be14-a0b2-4a2e-9f3a-9cc34f9e92f3"
   },
   "outputs": [
    {
     "data": {
      "text/plain": [
       "[0.8741444397981477,\n",
       " 0.8075700653055002,\n",
       " 0.7664887266266859,\n",
       " 0.7358565484866151,\n",
       " 0.7260733146141776,\n",
       " 0.7076389107823038,\n",
       " 0.6789873757618072,\n",
       " 0.6687199958586139,\n",
       " 0.6508360078369462,\n",
       " 0.6317420950653962,\n",
       " 0.6107152343164421,\n",
       " 0.5923801617339708,\n",
       " 0.5775268957332989,\n",
       " 0.5612939542125244,\n",
       " 0.5521469325709714,\n",
       " 0.5371306503398952,\n",
       " 0.5259169597875777,\n",
       " 0.5139720282212431,\n",
       " 0.4990603215562571]"
      ]
     },
     "execution_count": 12,
     "metadata": {},
     "output_type": "execute_result"
    }
   ],
   "source": [
    "r2_train_list = [] # For Trainig Data\n",
    "k_values = range(2,21) # It take 2 , 3 ,4, 5 ,...., 29 ,20.\n",
    "for k in k_values:\n",
    " knn_reg = KNeighborsRegressor(n_neighbors=k , p=1)\n",
    " knn_reg.fit(x_train,y_train)\n",
    " r2_train = knn_reg.score(x_train,y_train)\n",
    " r2_train_list.append(r2_train)\n",
    "\n",
    "r2_train_list\n"
   ]
  },
  {
   "cell_type": "code",
   "execution_count": 13,
   "metadata": {
    "colab": {
     "base_uri": "https://localhost:8080/"
    },
    "id": "QOCuh1gbr5MZ",
    "outputId": "f327c23a-0e4b-4dd4-a296-78072624db61"
   },
   "outputs": [
    {
     "data": {
      "text/plain": [
       "[0.7086358590595213,\n",
       " 0.7147424380289154,\n",
       " 0.7371062166190461,\n",
       " 0.7277904486290545,\n",
       " 0.7086469937245926,\n",
       " 0.6907256131486774,\n",
       " 0.6671630929329196,\n",
       " 0.6606840696699938,\n",
       " 0.644587244652286,\n",
       " 0.6287053078917607,\n",
       " 0.6079981502902309,\n",
       " 0.5874475702247887,\n",
       " 0.5768148346643116,\n",
       " 0.564414986762476,\n",
       " 0.5525563846568061,\n",
       " 0.5465097449758609,\n",
       " 0.53286585932075,\n",
       " 0.5262459625809348,\n",
       " 0.5217076897236176]"
      ]
     },
     "execution_count": 13,
     "metadata": {},
     "output_type": "execute_result"
    }
   ],
   "source": [
    "r2_test_list = [] # For Testing Data\n",
    "k_values = range(2,21)\n",
    "for k in k_values:\n",
    " knn_reg = KNeighborsRegressor(n_neighbors=k , p=1)\n",
    " knn_reg.fit(x_train,y_train)\n",
    " r2_test = knn_reg.score(x_test,y_test)\n",
    " r2_test_list.append(r2_test)\n",
    "\n",
    "r2_test_list\n"
   ]
  },
  {
   "cell_type": "code",
   "execution_count": 14,
   "metadata": {
    "colab": {
     "base_uri": "https://localhost:8080/"
    },
    "id": "xSXbVwwisCee",
    "outputId": "462019e2-40b8-476b-d296-534a61634228"
   },
   "outputs": [
    {
     "name": "stdout",
     "output_type": "stream",
     "text": [
      "r2_train_list:\n",
      " [0.8741444397981477, 0.8075700653055002, 0.7664887266266859, 0.7358565484866151, 0.7260733146141776, 0.7076389107823038, 0.6789873757618072, 0.6687199958586139, 0.6508360078369462, 0.6317420950653962, 0.6107152343164421, 0.5923801617339708, 0.5775268957332989, 0.5612939542125244, 0.5521469325709714, 0.5371306503398952, 0.5259169597875777, 0.5139720282212431, 0.4990603215562571]\n",
      "********************************************************************************\n",
      "r2_test_list:\n",
      " [0.7086358590595213, 0.7147424380289154, 0.7371062166190461, 0.7277904486290545, 0.7086469937245926, 0.6907256131486774, 0.6671630929329196, 0.6606840696699938, 0.644587244652286, 0.6287053078917607, 0.6079981502902309, 0.5874475702247887, 0.5768148346643116, 0.564414986762476, 0.5525563846568061, 0.5465097449758609, 0.53286585932075, 0.5262459625809348, 0.5217076897236176]\n"
     ]
    }
   ],
   "source": [
    "r2_train_list = []\n",
    "r2_test_list = []\n",
    "k_values = range(2,21)\n",
    "for k in k_values:\n",
    " knn_reg = KNeighborsRegressor(n_neighbors=k , p=1)\n",
    " knn_reg.fit(x_train,y_train)\n",
    " r2_train = knn_reg.score(x_train,y_train)\n",
    " r2_train_list.append(r2_train)\n",
    "\n",
    " r2_test = knn_reg.score(x_test,y_test)\n",
    " r2_test_list.append(r2_test)\n",
    "\n",
    "\n",
    "print(\"r2_train_list:\\n\", r2_train_list)\n",
    "print(\"*\"*80)\n",
    "print(\"r2_test_list:\\n\", r2_test_list)"
   ]
  },
  {
   "cell_type": "code",
   "execution_count": 15,
   "metadata": {
    "colab": {
     "base_uri": "https://localhost:8080/",
     "height": 564
    },
    "id": "OM72D1YzsJBG",
    "outputId": "8ef6e71e-8bc2-48bb-9a2e-4e8c2e10113b"
   },
   "outputs": [
    {
     "data": {
      "image/png": "[encoded data removed]",
      "text/plain": [
       "<Figure size 2000x1000 with 1 Axes>"
      ]
     },
     "metadata": {},
     "output_type": "display_data"
    }
   ],
   "source": [
    "plt.figure(figsize = (20,10))\n",
    "plt.plot(k_values,r2_train_list)\n",
    "plt.plot(k_values,r2_test_list)\n",
    "plt.xlabel(\"K Values\")\n",
    "plt.ylabel(\"R2_Score\")\n",
    "plt.title(\"Comaprision between Train and Test R2_Score\")\n",
    "plt.savefig(\"K values comaprision.jpeg\")"
   ]
  },
  {
   "cell_type": "markdown",
   "metadata": {
    "id": "fN1yj2xCsYlK"
   },
   "source": [
    "Take k value manually, as per graph\n",
    "k=4, p=1"
   ]
  },
  {
   "cell_type": "markdown",
   "metadata": {
    "id": "GeI54CpXsexO"
   },
   "source": [
    "Model Train"
   ]
  },
  {
   "cell_type": "code",
   "execution_count": 16,
   "metadata": {
    "colab": {
     "base_uri": "https://localhost:8080/",
     "height": 74
    },
    "id": "WwZ7mKXwsUjP",
    "outputId": "4c8c9b87-fb85-41e8-8129-bbacabbb2f5e"
   },
   "outputs": [
    {
     "data": {
      "text/html": [
       "<style>#sk-container-id-2 {color: black;}#sk-container-id-2 pre{padding: 0;}#sk-container-id-2 div.sk-toggleable {background-color: white;}#sk-container-id-2 label.sk-toggleable__label {cursor: pointer;display: block;width: 100%;margin-bottom: 0;padding: 0.3em;box-sizing: border-box;text-align: center;}#sk-container-id-2 label.sk-toggleable__label-arrow:before {content: \"▸\";float: left;margin-right: 0.25em;color: #696969;}#sk-container-id-2 label.sk-toggleable__label-arrow:hover:before {color: black;}#sk-container-id-2 div.sk-estimator:hover label.sk-toggleable__label-arrow:before {color: black;}#sk-container-id-2 div.sk-toggleable__content {max-height: 0;max-width: 0;overflow: hidden;text-align: left;background-color: #f0f8ff;}#sk-container-id-2 div.sk-toggleable__content pre {margin: 0.2em;color: black;border-radius: 0.25em;background-color: #f0f8ff;}#sk-container-id-2 input.sk-toggleable__control:checked~div.sk-toggleable__content {max-height: 200px;max-width: 100%;overflow: auto;}#sk-container-id-2 input.sk-toggleable__control:checked~label.sk-toggleable__label-arrow:before {content: \"▾\";}#sk-container-id-2 div.sk-estimator input.sk-toggleable__control:checked~label.sk-toggleable__label {background-color: #d4ebff;}#sk-container-id-2 div.sk-label input.sk-toggleable__control:checked~label.sk-toggleable__label {background-color: #d4ebff;}#sk-container-id-2 input.sk-hidden--visually {border: 0;clip: rect(1px 1px 1px 1px);clip: rect(1px, 1px, 1px, 1px);height: 1px;margin: -1px;overflow: hidden;padding: 0;position: absolute;width: 1px;}#sk-container-id-2 div.sk-estimator {font-family: monospace;background-color: #f0f8ff;border: 1px dotted black;border-radius: 0.25em;box-sizing: border-box;margin-bottom: 0.5em;}#sk-container-id-2 div.sk-estimator:hover {background-color: #d4ebff;}#sk-container-id-2 div.sk-parallel-item::after {content: \"\";width: 100%;border-bottom: 1px solid gray;flex-grow: 1;}#sk-container-id-2 div.sk-label:hover label.sk-toggleable__label {background-color: #d4ebff;}#sk-container-id-2 div.sk-serial::before {content: \"\";position: absolute;border-left: 1px solid gray;box-sizing: border-box;top: 0;bottom: 0;left: 50%;z-index: 0;}#sk-container-id-2 div.sk-serial {display: flex;flex-direction: column;align-items: center;background-color: white;padding-right: 0.2em;padding-left: 0.2em;position: relative;}#sk-container-id-2 div.sk-item {position: relative;z-index: 1;}#sk-container-id-2 div.sk-parallel {display: flex;align-items: stretch;justify-content: center;background-color: white;position: relative;}#sk-container-id-2 div.sk-item::before, #sk-container-id-2 div.sk-parallel-item::before {content: \"\";position: absolute;border-left: 1px solid gray;box-sizing: border-box;top: 0;bottom: 0;left: 50%;z-index: -1;}#sk-container-id-2 div.sk-parallel-item {display: flex;flex-direction: column;z-index: 1;position: relative;background-color: white;}#sk-container-id-2 div.sk-parallel-item:first-child::after {align-self: flex-end;width: 50%;}#sk-container-id-2 div.sk-parallel-item:last-child::after {align-self: flex-start;width: 50%;}#sk-container-id-2 div.sk-parallel-item:only-child::after {width: 0;}#sk-container-id-2 div.sk-dashed-wrapped {border: 1px dashed gray;margin: 0 0.4em 0.5em 0.4em;box-sizing: border-box;padding-bottom: 0.4em;background-color: white;}#sk-container-id-2 div.sk-label label {font-family: monospace;font-weight: bold;display: inline-block;line-height: 1.2em;}#sk-container-id-2 div.sk-label-container {text-align: center;}#sk-container-id-2 div.sk-container {/* jupyter's `normalize.less` sets `[hidden] { display: none; }` but bootstrap.min.css set `[hidden] { display: none !important; }` so we also need the `!important` here to be able to override the default hidden behavior on the sphinx rendered scikit-learn.org. See: https://github.com/scikit-learn/scikit-learn/issues/21755 */display: inline-block !important;position: relative;}#sk-container-id-2 div.sk-text-repr-fallback {display: none;}</style><div id=\"sk-container-id-2\" class=\"sk-top-container\"><div class=\"sk-text-repr-fallback\"><pre>KNeighborsRegressor(n_neighbors=4, p=1)</pre><b>In a Jupyter environment, please rerun this cell to show the HTML representation or trust the notebook. <br />On GitHub, the HTML representation is unable to render, please try loading this page with nbviewer.org.</b></div><div class=\"sk-container\" hidden><div class=\"sk-item\"><div class=\"sk-estimator sk-toggleable\"><input class=\"sk-toggleable__control sk-hidden--visually\" id=\"sk-estimator-id-2\" type=\"checkbox\" checked><label for=\"sk-estimator-id-2\" class=\"sk-toggleable__label sk-toggleable__label-arrow\">KNeighborsRegressor</label><div class=\"sk-toggleable__content\"><pre>KNeighborsRegressor(n_neighbors=4, p=1)</pre></div></div></div></div></div>"
      ],
      "text/plain": [
       "KNeighborsRegressor(n_neighbors=4, p=1)"
      ]
     },
     "execution_count": 16,
     "metadata": {},
     "output_type": "execute_result"
    }
   ],
   "source": [
    "knn_reg = KNeighborsRegressor(n_neighbors=4,p=1)\n",
    "knn_reg.fit(x_train,y_train)\n"
   ]
  },
  {
   "cell_type": "markdown",
   "metadata": {
    "id": "rpWFlll3skrO"
   },
   "source": [
    "Evaluation"
   ]
  },
  {
   "cell_type": "markdown",
   "metadata": {
    "id": "vF9teK3ysttq"
   },
   "source": [
    "#Testing data Accuracy"
   ]
  },
  {
   "cell_type": "code",
   "execution_count": 17,
   "metadata": {
    "colab": {
     "base_uri": "https://localhost:8080/"
    },
    "id": "OJD2LYiFsX3x",
    "outputId": "04c17edb-7d50-46df-e9cf-5e4e9876e098"
   },
   "outputs": [
    {
     "name": "stdout",
     "output_type": "stream",
     "text": [
      "MSE: 19.589029605263157\n",
      "RMSE: 4.4259495710257655\n",
      "MAE : 3.38125\n",
      "R-Squared value: 0.7371062166190461\n"
     ]
    }
   ],
   "source": [
    "\n",
    "y_pred = knn_reg.predict(x_test)\n",
    "mse = mean_squared_error(y_test,y_pred)\n",
    "print(\"MSE:\",mse)\n",
    "rmse = np.sqrt(mse)\n",
    "print(\"RMSE:\",rmse)\n",
    "mae = mean_absolute_error(y_test,y_pred)\n",
    "print(\"MAE :\",mae)\n",
    "r2_value = r2_score(y_test,y_pred)\n",
    "print(\"R-Squared value:\",r2_value)"
   ]
  },
  {
   "cell_type": "markdown",
   "metadata": {
    "id": "buGApxUasoK_"
   },
   "source": [
    "#Training data Accuracy"
   ]
  },
  {
   "cell_type": "code",
   "execution_count": 18,
   "metadata": {
    "colab": {
     "base_uri": "https://localhost:8080/"
    },
    "id": "8ke8zZDrsnfh",
    "outputId": "2bc43adc-1b4d-496a-a28a-027bbba7d261"
   },
   "outputs": [
    {
     "name": "stdout",
     "output_type": "stream",
     "text": [
      "MSE: 20.524830508474572\n",
      "RMSE: 4.530433810185794\n",
      "MAE : 3.0388418079096047\n",
      "R-Squared value: 0.7664887266266859\n"
     ]
    }
   ],
   "source": [
    "\n",
    "y_pred_train = knn_reg.predict(x_train)\n",
    "mse = mean_squared_error(y_train,y_pred_train)\n",
    "print(\"MSE:\",mse)\n",
    "rmse = np.sqrt(mse)\n",
    "print(\"RMSE:\",rmse)\n",
    "mae = mean_absolute_error(y_train,y_pred_train)\n",
    "print(\"MAE :\",mae)\n",
    "r2_value = r2_score(y_train,y_pred_train)\n",
    "print(\"R-Squared value:\",r2_value)"
   ]
  },
  {
   "cell_type": "markdown",
   "metadata": {
    "id": "vlU_2ytHs1p6"
   },
   "source": [
    "Feature Engineering"
   ]
  },
  {
   "cell_type": "code",
   "execution_count": 19,
   "metadata": {
    "id": "BWaR-vaTswPU"
   },
   "outputs": [],
   "source": [
    "x = df.drop(\"medv\",axis = 1)\n",
    "y= df[\"medv\"]\n",
    "x_train,x_test,y_train,y_test = train_test_split(x,y,test_size=0.30,random_state=42)"
   ]
  },
  {
   "cell_type": "markdown",
   "metadata": {
    "id": "py2HW5F9tDxw"
   },
   "source": [
    "# STAGE 3\n",
    "Normalization >> only on training data\n",
    "Train the model by Default values of K and p\n"
   ]
  },
  {
   "cell_type": "code",
   "execution_count": 20,
   "metadata": {
    "colab": {
     "base_uri": "https://localhost:8080/",
     "height": 337
    },
    "id": "CZt_TrI5tC-t",
    "outputId": "7c1da331-c4ad-4c50-fe64-8bddea796ff0"
   },
   "outputs": [
    {
     "data": {
      "text/html": [
       "<div>\n",
       "<style scoped>\n",
       "    .dataframe tbody tr th:only-of-type {\n",
       "        vertical-align: middle;\n",
       "    }\n",
       "\n",
       "    .dataframe tbody tr th {\n",
       "        vertical-align: top;\n",
       "    }\n",
       "\n",
       "    .dataframe thead th {\n",
       "        text-align: right;\n",
       "    }\n",
       "</style>\n",
       "<table border=\"1\" class=\"dataframe\">\n",
       "  <thead>\n",
       "    <tr style=\"text-align: right;\">\n",
       "      <th></th>\n",
       "      <th>Unnamed: 0</th>\n",
       "      <th>crim</th>\n",
       "      <th>zn</th>\n",
       "      <th>indus</th>\n",
       "      <th>chas</th>\n",
       "      <th>nox</th>\n",
       "      <th>rm</th>\n",
       "      <th>age</th>\n",
       "      <th>dis</th>\n",
       "      <th>rad</th>\n",
       "      <th>tax</th>\n",
       "      <th>ptratio</th>\n",
       "      <th>black</th>\n",
       "      <th>lstat</th>\n",
       "    </tr>\n",
       "  </thead>\n",
       "  <tbody>\n",
       "    <tr>\n",
       "      <th>count</th>\n",
       "      <td>354.000000</td>\n",
       "      <td>354.000000</td>\n",
       "      <td>354.000000</td>\n",
       "      <td>354.000000</td>\n",
       "      <td>354.000000</td>\n",
       "      <td>354.000000</td>\n",
       "      <td>354.000000</td>\n",
       "      <td>354.000000</td>\n",
       "      <td>354.000000</td>\n",
       "      <td>354.000000</td>\n",
       "      <td>354.000000</td>\n",
       "      <td>354.000000</td>\n",
       "      <td>354.000000</td>\n",
       "      <td>354.000000</td>\n",
       "    </tr>\n",
       "    <tr>\n",
       "      <th>mean</th>\n",
       "      <td>253.177966</td>\n",
       "      <td>3.469887</td>\n",
       "      <td>11.403955</td>\n",
       "      <td>11.133051</td>\n",
       "      <td>0.073446</td>\n",
       "      <td>0.557259</td>\n",
       "      <td>6.325672</td>\n",
       "      <td>68.799718</td>\n",
       "      <td>3.765874</td>\n",
       "      <td>9.437853</td>\n",
       "      <td>407.042373</td>\n",
       "      <td>18.277966</td>\n",
       "      <td>359.701808</td>\n",
       "      <td>12.421130</td>\n",
       "    </tr>\n",
       "    <tr>\n",
       "      <th>std</th>\n",
       "      <td>141.166747</td>\n",
       "      <td>8.315831</td>\n",
       "      <td>22.608457</td>\n",
       "      <td>6.938651</td>\n",
       "      <td>0.261237</td>\n",
       "      <td>0.116792</td>\n",
       "      <td>0.719211</td>\n",
       "      <td>27.665360</td>\n",
       "      <td>2.126032</td>\n",
       "      <td>8.639971</td>\n",
       "      <td>166.522237</td>\n",
       "      <td>2.256792</td>\n",
       "      <td>86.924779</td>\n",
       "      <td>7.112402</td>\n",
       "    </tr>\n",
       "    <tr>\n",
       "      <th>min</th>\n",
       "      <td>2.000000</td>\n",
       "      <td>0.009060</td>\n",
       "      <td>0.000000</td>\n",
       "      <td>1.210000</td>\n",
       "      <td>0.000000</td>\n",
       "      <td>0.385000</td>\n",
       "      <td>3.863000</td>\n",
       "      <td>2.900000</td>\n",
       "      <td>1.129600</td>\n",
       "      <td>1.000000</td>\n",
       "      <td>187.000000</td>\n",
       "      <td>12.600000</td>\n",
       "      <td>0.320000</td>\n",
       "      <td>1.730000</td>\n",
       "    </tr>\n",
       "    <tr>\n",
       "      <th>25%</th>\n",
       "      <td>136.250000</td>\n",
       "      <td>0.082320</td>\n",
       "      <td>0.000000</td>\n",
       "      <td>5.130000</td>\n",
       "      <td>0.000000</td>\n",
       "      <td>0.450000</td>\n",
       "      <td>5.889500</td>\n",
       "      <td>46.025000</td>\n",
       "      <td>2.073700</td>\n",
       "      <td>4.000000</td>\n",
       "      <td>279.000000</td>\n",
       "      <td>16.650000</td>\n",
       "      <td>376.782500</td>\n",
       "      <td>6.862500</td>\n",
       "    </tr>\n",
       "    <tr>\n",
       "      <th>50%</th>\n",
       "      <td>253.500000</td>\n",
       "      <td>0.256510</td>\n",
       "      <td>0.000000</td>\n",
       "      <td>9.690000</td>\n",
       "      <td>0.000000</td>\n",
       "      <td>0.538000</td>\n",
       "      <td>6.227500</td>\n",
       "      <td>77.350000</td>\n",
       "      <td>3.107300</td>\n",
       "      <td>5.000000</td>\n",
       "      <td>330.000000</td>\n",
       "      <td>18.600000</td>\n",
       "      <td>391.600000</td>\n",
       "      <td>10.925000</td>\n",
       "    </tr>\n",
       "    <tr>\n",
       "      <th>75%</th>\n",
       "      <td>370.750000</td>\n",
       "      <td>3.281688</td>\n",
       "      <td>20.000000</td>\n",
       "      <td>18.100000</td>\n",
       "      <td>0.000000</td>\n",
       "      <td>0.631000</td>\n",
       "      <td>6.681750</td>\n",
       "      <td>93.475000</td>\n",
       "      <td>5.400700</td>\n",
       "      <td>24.000000</td>\n",
       "      <td>666.000000</td>\n",
       "      <td>20.200000</td>\n",
       "      <td>396.172500</td>\n",
       "      <td>16.225000</td>\n",
       "    </tr>\n",
       "    <tr>\n",
       "      <th>max</th>\n",
       "      <td>506.000000</td>\n",
       "      <td>88.976200</td>\n",
       "      <td>95.000000</td>\n",
       "      <td>27.740000</td>\n",
       "      <td>1.000000</td>\n",
       "      <td>0.871000</td>\n",
       "      <td>8.780000</td>\n",
       "      <td>100.000000</td>\n",
       "      <td>12.126500</td>\n",
       "      <td>24.000000</td>\n",
       "      <td>711.000000</td>\n",
       "      <td>22.000000</td>\n",
       "      <td>396.900000</td>\n",
       "      <td>37.970000</td>\n",
       "    </tr>\n",
       "  </tbody>\n",
       "</table>\n",
       "</div>"
      ],
      "text/plain": [
       "       Unnamed: 0        crim          zn       indus        chas         nox  \\\n",
       "count  354.000000  354.000000  354.000000  354.000000  354.000000  354.000000   \n",
       "mean   253.177966    3.469887   11.403955   11.133051    0.073446    0.557259   \n",
       "std    141.166747    8.315831   22.608457    6.938651    0.261237    0.116792   \n",
       "min      2.000000    0.009060    0.000000    1.210000    0.000000    0.385000   \n",
       "25%    136.250000    0.082320    0.000000    5.130000    0.000000    0.450000   \n",
       "50%    253.500000    0.256510    0.000000    9.690000    0.000000    0.538000   \n",
       "75%    370.750000    3.281688   20.000000   18.100000    0.000000    0.631000   \n",
       "max    506.000000   88.976200   95.000000   27.740000    1.000000    0.871000   \n",
       "\n",
       "               rm         age         dis         rad         tax     ptratio  \\\n",
       "count  354.000000  354.000000  354.000000  354.000000  354.000000  354.000000   \n",
       "mean     6.325672   68.799718    3.765874    9.437853  407.042373   18.277966   \n",
       "std      0.719211   27.665360    2.126032    8.639971  166.522237    2.256792   \n",
       "min      3.863000    2.900000    1.129600    1.000000  187.000000   12.600000   \n",
       "25%      5.889500   46.025000    2.073700    4.000000  279.000000   16.650000   \n",
       "50%      6.227500   77.350000    3.107300    5.000000  330.000000   18.600000   \n",
       "75%      6.681750   93.475000    5.400700   24.000000  666.000000   20.200000   \n",
       "max      8.780000  100.000000   12.126500   24.000000  711.000000   22.000000   \n",
       "\n",
       "            black       lstat  \n",
       "count  354.000000  354.000000  \n",
       "mean   359.701808   12.421130  \n",
       "std     86.924779    7.112402  \n",
       "min      0.320000    1.730000  \n",
       "25%    376.782500    6.862500  \n",
       "50%    391.600000   10.925000  \n",
       "75%    396.172500   16.225000  \n",
       "max    396.900000   37.970000  "
      ]
     },
     "execution_count": 20,
     "metadata": {},
     "output_type": "execute_result"
    }
   ],
   "source": [
    "x_train.describe()\n"
   ]
  },
  {
   "cell_type": "code",
   "execution_count": 21,
   "metadata": {
    "colab": {
     "base_uri": "https://localhost:8080/",
     "height": 460
    },
    "id": "m3iW7w30tJ9q",
    "outputId": "99108ac3-2c80-4e79-db35-84ebd0fce350"
   },
   "outputs": [
    {
     "data": {
      "text/html": [
       "<div>\n",
       "<style scoped>\n",
       "    .dataframe tbody tr th:only-of-type {\n",
       "        vertical-align: middle;\n",
       "    }\n",
       "\n",
       "    .dataframe tbody tr th {\n",
       "        vertical-align: top;\n",
       "    }\n",
       "\n",
       "    .dataframe thead th {\n",
       "        text-align: right;\n",
       "    }\n",
       "</style>\n",
       "<table border=\"1\" class=\"dataframe\">\n",
       "  <thead>\n",
       "    <tr style=\"text-align: right;\">\n",
       "      <th></th>\n",
       "      <th>Unnamed: 0</th>\n",
       "      <th>crim</th>\n",
       "      <th>zn</th>\n",
       "      <th>indus</th>\n",
       "      <th>chas</th>\n",
       "      <th>nox</th>\n",
       "      <th>rm</th>\n",
       "      <th>age</th>\n",
       "      <th>dis</th>\n",
       "      <th>rad</th>\n",
       "      <th>tax</th>\n",
       "      <th>ptratio</th>\n",
       "      <th>black</th>\n",
       "      <th>lstat</th>\n",
       "    </tr>\n",
       "  </thead>\n",
       "  <tbody>\n",
       "    <tr>\n",
       "      <th>0</th>\n",
       "      <td>0.007937</td>\n",
       "      <td>0.000234</td>\n",
       "      <td>0.000000</td>\n",
       "      <td>0.036562</td>\n",
       "      <td>0.0</td>\n",
       "      <td>0.150206</td>\n",
       "      <td>0.522066</td>\n",
       "      <td>0.574665</td>\n",
       "      <td>0.448545</td>\n",
       "      <td>0.086957</td>\n",
       "      <td>0.066794</td>\n",
       "      <td>0.648936</td>\n",
       "      <td>0.992990</td>\n",
       "      <td>0.096026</td>\n",
       "    </tr>\n",
       "    <tr>\n",
       "      <th>1</th>\n",
       "      <td>0.228175</td>\n",
       "      <td>0.001377</td>\n",
       "      <td>0.000000</td>\n",
       "      <td>0.331700</td>\n",
       "      <td>0.0</td>\n",
       "      <td>0.333333</td>\n",
       "      <td>0.470409</td>\n",
       "      <td>0.716787</td>\n",
       "      <td>0.145541</td>\n",
       "      <td>0.217391</td>\n",
       "      <td>0.467557</td>\n",
       "      <td>0.553191</td>\n",
       "      <td>0.990922</td>\n",
       "      <td>0.284492</td>\n",
       "    </tr>\n",
       "    <tr>\n",
       "      <th>2</th>\n",
       "      <td>0.087302</td>\n",
       "      <td>0.001825</td>\n",
       "      <td>0.000000</td>\n",
       "      <td>0.214851</td>\n",
       "      <td>0.0</td>\n",
       "      <td>0.129630</td>\n",
       "      <td>0.369941</td>\n",
       "      <td>0.318229</td>\n",
       "      <td>0.361084</td>\n",
       "      <td>0.086957</td>\n",
       "      <td>0.087786</td>\n",
       "      <td>0.563830</td>\n",
       "      <td>1.000000</td>\n",
       "      <td>0.233996</td>\n",
       "    </tr>\n",
       "    <tr>\n",
       "      <th>3</th>\n",
       "      <td>0.029762</td>\n",
       "      <td>0.011744</td>\n",
       "      <td>0.000000</td>\n",
       "      <td>0.261214</td>\n",
       "      <td>0.0</td>\n",
       "      <td>0.314815</td>\n",
       "      <td>0.421395</td>\n",
       "      <td>0.271885</td>\n",
       "      <td>0.306359</td>\n",
       "      <td>0.130435</td>\n",
       "      <td>0.229008</td>\n",
       "      <td>0.893617</td>\n",
       "      <td>0.974658</td>\n",
       "      <td>0.133830</td>\n",
       "    </tr>\n",
       "    <tr>\n",
       "      <th>4</th>\n",
       "      <td>0.926587</td>\n",
       "      <td>0.174971</td>\n",
       "      <td>0.000000</td>\n",
       "      <td>0.636638</td>\n",
       "      <td>0.0</td>\n",
       "      <td>0.401235</td>\n",
       "      <td>0.419565</td>\n",
       "      <td>0.701339</td>\n",
       "      <td>0.161755</td>\n",
       "      <td>1.000000</td>\n",
       "      <td>0.914122</td>\n",
       "      <td>0.808511</td>\n",
       "      <td>0.928993</td>\n",
       "      <td>0.452539</td>\n",
       "    </tr>\n",
       "    <tr>\n",
       "      <th>...</th>\n",
       "      <td>...</td>\n",
       "      <td>...</td>\n",
       "      <td>...</td>\n",
       "      <td>...</td>\n",
       "      <td>...</td>\n",
       "      <td>...</td>\n",
       "      <td>...</td>\n",
       "      <td>...</td>\n",
       "      <td>...</td>\n",
       "      <td>...</td>\n",
       "      <td>...</td>\n",
       "      <td>...</td>\n",
       "      <td>...</td>\n",
       "      <td>...</td>\n",
       "    </tr>\n",
       "    <tr>\n",
       "      <th>349</th>\n",
       "      <td>0.208333</td>\n",
       "      <td>0.001822</td>\n",
       "      <td>0.000000</td>\n",
       "      <td>0.277045</td>\n",
       "      <td>0.0</td>\n",
       "      <td>0.277778</td>\n",
       "      <td>0.401261</td>\n",
       "      <td>0.916581</td>\n",
       "      <td>0.098337</td>\n",
       "      <td>0.173913</td>\n",
       "      <td>0.375954</td>\n",
       "      <td>0.882979</td>\n",
       "      <td>0.996898</td>\n",
       "      <td>0.467163</td>\n",
       "    </tr>\n",
       "    <tr>\n",
       "      <th>350</th>\n",
       "      <td>0.533730</td>\n",
       "      <td>0.003261</td>\n",
       "      <td>0.210526</td>\n",
       "      <td>0.216736</td>\n",
       "      <td>0.0</td>\n",
       "      <td>0.162551</td>\n",
       "      <td>0.405328</td>\n",
       "      <td>0.403708</td>\n",
       "      <td>0.300030</td>\n",
       "      <td>0.086957</td>\n",
       "      <td>0.068702</td>\n",
       "      <td>0.638298</td>\n",
       "      <td>0.979197</td>\n",
       "      <td>0.310982</td>\n",
       "    </tr>\n",
       "    <tr>\n",
       "      <th>351</th>\n",
       "      <td>0.688492</td>\n",
       "      <td>0.000067</td>\n",
       "      <td>0.842105</td>\n",
       "      <td>0.030155</td>\n",
       "      <td>0.0</td>\n",
       "      <td>0.102881</td>\n",
       "      <td>0.563758</td>\n",
       "      <td>0.276004</td>\n",
       "      <td>0.656039</td>\n",
       "      <td>0.130435</td>\n",
       "      <td>0.177481</td>\n",
       "      <td>0.468085</td>\n",
       "      <td>0.984972</td>\n",
       "      <td>0.117550</td>\n",
       "    </tr>\n",
       "    <tr>\n",
       "      <th>352</th>\n",
       "      <td>0.861111</td>\n",
       "      <td>0.125342</td>\n",
       "      <td>0.000000</td>\n",
       "      <td>0.636638</td>\n",
       "      <td>0.0</td>\n",
       "      <td>0.730453</td>\n",
       "      <td>0.562538</td>\n",
       "      <td>0.944387</td>\n",
       "      <td>0.090489</td>\n",
       "      <td>1.000000</td>\n",
       "      <td>0.914122</td>\n",
       "      <td>0.808511</td>\n",
       "      <td>0.276186</td>\n",
       "      <td>0.594371</td>\n",
       "    </tr>\n",
       "    <tr>\n",
       "      <th>353</th>\n",
       "      <td>0.200397</td>\n",
       "      <td>0.002469</td>\n",
       "      <td>0.000000</td>\n",
       "      <td>0.277045</td>\n",
       "      <td>0.0</td>\n",
       "      <td>0.277778</td>\n",
       "      <td>0.516982</td>\n",
       "      <td>0.849640</td>\n",
       "      <td>0.144141</td>\n",
       "      <td>0.173913</td>\n",
       "      <td>0.375954</td>\n",
       "      <td>0.882979</td>\n",
       "      <td>0.177720</td>\n",
       "      <td>0.245585</td>\n",
       "    </tr>\n",
       "  </tbody>\n",
       "</table>\n",
       "<p>354 rows × 14 columns</p>\n",
       "</div>"
      ],
      "text/plain": [
       "     Unnamed: 0      crim        zn     indus  chas       nox        rm  \\\n",
       "0      0.007937  0.000234  0.000000  0.036562   0.0  0.150206  0.522066   \n",
       "1      0.228175  0.001377  0.000000  0.331700   0.0  0.333333  0.470409   \n",
       "2      0.087302  0.001825  0.000000  0.214851   0.0  0.129630  0.369941   \n",
       "3      0.029762  0.011744  0.000000  0.261214   0.0  0.314815  0.421395   \n",
       "4      0.926587  0.174971  0.000000  0.636638   0.0  0.401235  0.419565   \n",
       "..          ...       ...       ...       ...   ...       ...       ...   \n",
       "349    0.208333  0.001822  0.000000  0.277045   0.0  0.277778  0.401261   \n",
       "350    0.533730  0.003261  0.210526  0.216736   0.0  0.162551  0.405328   \n",
       "351    0.688492  0.000067  0.842105  0.030155   0.0  0.102881  0.563758   \n",
       "352    0.861111  0.125342  0.000000  0.636638   0.0  0.730453  0.562538   \n",
       "353    0.200397  0.002469  0.000000  0.277045   0.0  0.277778  0.516982   \n",
       "\n",
       "          age       dis       rad       tax   ptratio     black     lstat  \n",
       "0    0.574665  0.448545  0.086957  0.066794  0.648936  0.992990  0.096026  \n",
       "1    0.716787  0.145541  0.217391  0.467557  0.553191  0.990922  0.284492  \n",
       "2    0.318229  0.361084  0.086957  0.087786  0.563830  1.000000  0.233996  \n",
       "3    0.271885  0.306359  0.130435  0.229008  0.893617  0.974658  0.133830  \n",
       "4    0.701339  0.161755  1.000000  0.914122  0.808511  0.928993  0.452539  \n",
       "..        ...       ...       ...       ...       ...       ...       ...  \n",
       "349  0.916581  0.098337  0.173913  0.375954  0.882979  0.996898  0.467163  \n",
       "350  0.403708  0.300030  0.086957  0.068702  0.638298  0.979197  0.310982  \n",
       "351  0.276004  0.656039  0.130435  0.177481  0.468085  0.984972  0.117550  \n",
       "352  0.944387  0.090489  1.000000  0.914122  0.808511  0.276186  0.594371  \n",
       "353  0.849640  0.144141  0.173913  0.375954  0.882979  0.177720  0.245585  \n",
       "\n",
       "[354 rows x 14 columns]"
      ]
     },
     "execution_count": 21,
     "metadata": {},
     "output_type": "execute_result"
    }
   ],
   "source": [
    "normal_scalar = MinMaxScaler()\n",
    "normal_scalar.fit(x_train) # we are storing maximun and minimun values\n",
    "array = normal_scalar.transform(x_train)\n",
    "normal_train_xdf = pd.DataFrame(array,columns = x_train.columns)\n",
    "normal_train_xdf"
   ]
  },
  {
   "cell_type": "code",
   "execution_count": 22,
   "metadata": {
    "colab": {
     "base_uri": "https://localhost:8080/"
    },
    "id": "8VIQJE9mtUw_",
    "outputId": "e11a1aba-789b-4003-b61f-7957eb18f631"
   },
   "outputs": [
    {
     "name": "stdout",
     "output_type": "stream",
     "text": [
      "MSE: 15.991926553672316\n",
      "RMSE: 3.9989906918711773\n",
      "MAE : 2.6392655367231637\n",
      "R-Squared value: 0.81805963602483\n"
     ]
    }
   ],
   "source": [
    "knn_reg = KNeighborsRegressor() # k=5, p=2\n",
    "knn_reg.fit(normal_train_xdf,y_train)\n",
    "#Training Data Accuracy\n",
    "y_pred_train = knn_reg.predict(normal_train_xdf)\n",
    "mse = mean_squared_error(y_train,y_pred_train)\n",
    "print(\"MSE:\",mse)\n",
    "rmse = np.sqrt(mse)\n",
    "print(\"RMSE:\",rmse)\n",
    "mae = mean_absolute_error(y_train,y_pred_train)\n",
    "print(\"MAE :\",mae)\n",
    "r2_value = r2_score(y_train,y_pred_train)\n",
    "print(\"R-Squared value:\",r2_value)"
   ]
  },
  {
   "cell_type": "code",
   "execution_count": 23,
   "metadata": {
    "colab": {
     "base_uri": "https://localhost:8080/",
     "height": 460
    },
    "id": "yZD0l-P-wbim",
    "outputId": "3bfc276a-fac7-466d-8e4a-b102ed91bbad"
   },
   "outputs": [
    {
     "data": {
      "text/html": [
       "<div>\n",
       "<style scoped>\n",
       "    .dataframe tbody tr th:only-of-type {\n",
       "        vertical-align: middle;\n",
       "    }\n",
       "\n",
       "    .dataframe tbody tr th {\n",
       "        vertical-align: top;\n",
       "    }\n",
       "\n",
       "    .dataframe thead th {\n",
       "        text-align: right;\n",
       "    }\n",
       "</style>\n",
       "<table border=\"1\" class=\"dataframe\">\n",
       "  <thead>\n",
       "    <tr style=\"text-align: right;\">\n",
       "      <th></th>\n",
       "      <th>Unnamed: 0</th>\n",
       "      <th>crim</th>\n",
       "      <th>zn</th>\n",
       "      <th>indus</th>\n",
       "      <th>chas</th>\n",
       "      <th>nox</th>\n",
       "      <th>rm</th>\n",
       "      <th>age</th>\n",
       "      <th>dis</th>\n",
       "      <th>rad</th>\n",
       "      <th>tax</th>\n",
       "      <th>ptratio</th>\n",
       "      <th>black</th>\n",
       "      <th>lstat</th>\n",
       "    </tr>\n",
       "  </thead>\n",
       "  <tbody>\n",
       "    <tr>\n",
       "      <th>0</th>\n",
       "      <td>0.341270</td>\n",
       "      <td>0.000930</td>\n",
       "      <td>0.000000</td>\n",
       "      <td>0.107049</td>\n",
       "      <td>0.0</td>\n",
       "      <td>0.257202</td>\n",
       "      <td>0.519219</td>\n",
       "      <td>0.836251</td>\n",
       "      <td>0.137921</td>\n",
       "      <td>0.173913</td>\n",
       "      <td>0.208015</td>\n",
       "      <td>0.425532</td>\n",
       "      <td>0.996470</td>\n",
       "      <td>0.201711</td>\n",
       "    </tr>\n",
       "    <tr>\n",
       "      <th>1</th>\n",
       "      <td>0.541667</td>\n",
       "      <td>0.000533</td>\n",
       "      <td>0.421053</td>\n",
       "      <td>0.196005</td>\n",
       "      <td>1.0</td>\n",
       "      <td>0.127572</td>\n",
       "      <td>0.588774</td>\n",
       "      <td>0.308960</td>\n",
       "      <td>0.268076</td>\n",
       "      <td>0.130435</td>\n",
       "      <td>0.127863</td>\n",
       "      <td>0.531915</td>\n",
       "      <td>1.000000</td>\n",
       "      <td>0.049669</td>\n",
       "    </tr>\n",
       "    <tr>\n",
       "      <th>2</th>\n",
       "      <td>0.972222</td>\n",
       "      <td>0.001087</td>\n",
       "      <td>0.000000</td>\n",
       "      <td>1.000000</td>\n",
       "      <td>0.0</td>\n",
       "      <td>0.460905</td>\n",
       "      <td>0.431157</td>\n",
       "      <td>0.987642</td>\n",
       "      <td>0.067155</td>\n",
       "      <td>0.130435</td>\n",
       "      <td>1.000000</td>\n",
       "      <td>0.797872</td>\n",
       "      <td>0.982879</td>\n",
       "      <td>0.450883</td>\n",
       "    </tr>\n",
       "    <tr>\n",
       "      <th>3</th>\n",
       "      <td>0.140873</td>\n",
       "      <td>0.000928</td>\n",
       "      <td>0.000000</td>\n",
       "      <td>0.361855</td>\n",
       "      <td>0.0</td>\n",
       "      <td>0.057613</td>\n",
       "      <td>0.447834</td>\n",
       "      <td>0.050463</td>\n",
       "      <td>0.378079</td>\n",
       "      <td>0.130435</td>\n",
       "      <td>0.225191</td>\n",
       "      <td>0.702128</td>\n",
       "      <td>0.984896</td>\n",
       "      <td>0.104581</td>\n",
       "    </tr>\n",
       "    <tr>\n",
       "      <th>4</th>\n",
       "      <td>0.894841</td>\n",
       "      <td>0.057112</td>\n",
       "      <td>0.000000</td>\n",
       "      <td>0.636638</td>\n",
       "      <td>0.0</td>\n",
       "      <td>0.674897</td>\n",
       "      <td>0.495017</td>\n",
       "      <td>0.915551</td>\n",
       "      <td>0.112632</td>\n",
       "      <td>1.000000</td>\n",
       "      <td>0.914122</td>\n",
       "      <td>0.808511</td>\n",
       "      <td>0.970220</td>\n",
       "      <td>0.428808</td>\n",
       "    </tr>\n",
       "    <tr>\n",
       "      <th>...</th>\n",
       "      <td>...</td>\n",
       "      <td>...</td>\n",
       "      <td>...</td>\n",
       "      <td>...</td>\n",
       "      <td>...</td>\n",
       "      <td>...</td>\n",
       "      <td>...</td>\n",
       "      <td>...</td>\n",
       "      <td>...</td>\n",
       "      <td>...</td>\n",
       "      <td>...</td>\n",
       "      <td>...</td>\n",
       "      <td>...</td>\n",
       "      <td>...</td>\n",
       "    </tr>\n",
       "    <tr>\n",
       "      <th>147</th>\n",
       "      <td>0.873016</td>\n",
       "      <td>0.109199</td>\n",
       "      <td>0.000000</td>\n",
       "      <td>0.636638</td>\n",
       "      <td>0.0</td>\n",
       "      <td>0.730453</td>\n",
       "      <td>0.517185</td>\n",
       "      <td>0.971164</td>\n",
       "      <td>0.085069</td>\n",
       "      <td>1.000000</td>\n",
       "      <td>0.914122</td>\n",
       "      <td>0.808511</td>\n",
       "      <td>0.972414</td>\n",
       "      <td>0.490894</td>\n",
       "    </tr>\n",
       "    <tr>\n",
       "      <th>148</th>\n",
       "      <td>0.043651</td>\n",
       "      <td>0.011008</td>\n",
       "      <td>0.000000</td>\n",
       "      <td>0.261214</td>\n",
       "      <td>0.0</td>\n",
       "      <td>0.314815</td>\n",
       "      <td>0.396583</td>\n",
       "      <td>1.000000</td>\n",
       "      <td>0.269676</td>\n",
       "      <td>0.130435</td>\n",
       "      <td>0.229008</td>\n",
       "      <td>0.893617</td>\n",
       "      <td>0.994049</td>\n",
       "      <td>0.500828</td>\n",
       "    </tr>\n",
       "    <tr>\n",
       "      <th>149</th>\n",
       "      <td>0.444444</td>\n",
       "      <td>0.005821</td>\n",
       "      <td>0.000000</td>\n",
       "      <td>0.188089</td>\n",
       "      <td>0.0</td>\n",
       "      <td>0.244856</td>\n",
       "      <td>0.988814</td>\n",
       "      <td>0.824923</td>\n",
       "      <td>0.160482</td>\n",
       "      <td>0.304348</td>\n",
       "      <td>0.229008</td>\n",
       "      <td>0.510638</td>\n",
       "      <td>0.962429</td>\n",
       "      <td>0.080022</td>\n",
       "    </tr>\n",
       "    <tr>\n",
       "      <th>150</th>\n",
       "      <td>0.857143</td>\n",
       "      <td>0.062630</td>\n",
       "      <td>0.000000</td>\n",
       "      <td>0.636638</td>\n",
       "      <td>0.0</td>\n",
       "      <td>0.674897</td>\n",
       "      <td>0.523287</td>\n",
       "      <td>0.875386</td>\n",
       "      <td>0.107867</td>\n",
       "      <td>1.000000</td>\n",
       "      <td>0.914122</td>\n",
       "      <td>0.808511</td>\n",
       "      <td>0.251828</td>\n",
       "      <td>0.399834</td>\n",
       "    </tr>\n",
       "    <tr>\n",
       "      <th>151</th>\n",
       "      <td>0.884921</td>\n",
       "      <td>0.111455</td>\n",
       "      <td>0.000000</td>\n",
       "      <td>0.636638</td>\n",
       "      <td>0.0</td>\n",
       "      <td>0.730453</td>\n",
       "      <td>0.485662</td>\n",
       "      <td>0.964985</td>\n",
       "      <td>0.097155</td>\n",
       "      <td>1.000000</td>\n",
       "      <td>0.914122</td>\n",
       "      <td>0.808511</td>\n",
       "      <td>0.978869</td>\n",
       "      <td>0.405905</td>\n",
       "    </tr>\n",
       "  </tbody>\n",
       "</table>\n",
       "<p>152 rows × 14 columns</p>\n",
       "</div>"
      ],
      "text/plain": [
       "     Unnamed: 0      crim        zn     indus  chas       nox        rm  \\\n",
       "0      0.341270  0.000930  0.000000  0.107049   0.0  0.257202  0.519219   \n",
       "1      0.541667  0.000533  0.421053  0.196005   1.0  0.127572  0.588774   \n",
       "2      0.972222  0.001087  0.000000  1.000000   0.0  0.460905  0.431157   \n",
       "3      0.140873  0.000928  0.000000  0.361855   0.0  0.057613  0.447834   \n",
       "4      0.894841  0.057112  0.000000  0.636638   0.0  0.674897  0.495017   \n",
       "..          ...       ...       ...       ...   ...       ...       ...   \n",
       "147    0.873016  0.109199  0.000000  0.636638   0.0  0.730453  0.517185   \n",
       "148    0.043651  0.011008  0.000000  0.261214   0.0  0.314815  0.396583   \n",
       "149    0.444444  0.005821  0.000000  0.188089   0.0  0.244856  0.988814   \n",
       "150    0.857143  0.062630  0.000000  0.636638   0.0  0.674897  0.523287   \n",
       "151    0.884921  0.111455  0.000000  0.636638   0.0  0.730453  0.485662   \n",
       "\n",
       "          age       dis       rad       tax   ptratio     black     lstat  \n",
       "0    0.836251  0.137921  0.173913  0.208015  0.425532  0.996470  0.201711  \n",
       "1    0.308960  0.268076  0.130435  0.127863  0.531915  1.000000  0.049669  \n",
       "2    0.987642  0.067155  0.130435  1.000000  0.797872  0.982879  0.450883  \n",
       "3    0.050463  0.378079  0.130435  0.225191  0.702128  0.984896  0.104581  \n",
       "4    0.915551  0.112632  1.000000  0.914122  0.808511  0.970220  0.428808  \n",
       "..        ...       ...       ...       ...       ...       ...       ...  \n",
       "147  0.971164  0.085069  1.000000  0.914122  0.808511  0.972414  0.490894  \n",
       "148  1.000000  0.269676  0.130435  0.229008  0.893617  0.994049  0.500828  \n",
       "149  0.824923  0.160482  0.304348  0.229008  0.510638  0.962429  0.080022  \n",
       "150  0.875386  0.107867  1.000000  0.914122  0.808511  0.251828  0.399834  \n",
       "151  0.964985  0.097155  1.000000  0.914122  0.808511  0.978869  0.405905  \n",
       "\n",
       "[152 rows x 14 columns]"
      ]
     },
     "execution_count": 23,
     "metadata": {},
     "output_type": "execute_result"
    }
   ],
   "source": [
    "array = normal_scalar.transform(x_test)\n",
    "normal_test_xdf = pd.DataFrame(array,columns = x_test.columns)\n",
    "normal_test_xdf"
   ]
  },
  {
   "cell_type": "markdown",
   "metadata": {
    "id": "nBenrSF2wh4F"
   },
   "source": [
    "#Testing data Accuracy"
   ]
  },
  {
   "cell_type": "code",
   "execution_count": 24,
   "metadata": {
    "id": "KEfG_kY6wg-1"
   },
   "outputs": [
    {
     "name": "stdout",
     "output_type": "stream",
     "text": [
      "MSE: 21.818136842105265\n",
      "RMSE: 4.6709888505652915\n",
      "MAE : 2.8689473684210527\n",
      "R-Squared value: 0.7071905726660737\n"
     ]
    }
   ],
   "source": [
    "\n",
    "y_pred = knn_reg.predict(normal_test_xdf)\n",
    "mse = mean_squared_error(y_test,y_pred)\n",
    "print(\"MSE:\",mse)\n",
    "rmse = np.sqrt(mse)\n",
    "print(\"RMSE:\",rmse)\n",
    "mae = mean_absolute_error(y_test,y_pred)\n",
    "print(\"MAE :\",mae)\n",
    "r2_value = r2_score(y_test,y_pred)\n",
    "print(\"R-Squared value:\",r2_value)"
   ]
  },
  {
   "cell_type": "markdown",
   "metadata": {
    "id": "sGanfSZQwrld"
   },
   "source": [
    "#STAGE 4\n",
    "Train the model by Best values of K and p"
   ]
  },
  {
   "cell_type": "code",
   "execution_count": 25,
   "metadata": {
    "colab": {
     "base_uri": "https://localhost:8080/",
     "height": 673
    },
    "id": "u5jrlkE-wrE_",
    "outputId": "f6e172e1-c925-4078-bbb0-8de9bb26f1d7"
   },
   "outputs": [
    {
     "name": "stdout",
     "output_type": "stream",
     "text": [
      "r2_train_list:\n",
      " [0.9188895267696581, 0.8939535932386382, 0.8622400945120092, 0.8289147081216097, 0.8057244430417956, 0.7770386339815811, 0.7547530278892403, 0.7407893291907013, 0.7181171619729928, 0.6900223937788315, 0.6863864189113444, 0.6855386475882024, 0.6769279153085193, 0.6773675935764201, 0.667614471233464, 0.6606005348531243, 0.6524146582466128, 0.6428726098830149, 0.6365810847919711]\n",
      "********************************************************************************\n",
      "r2_test_list:\n",
      " [0.8457300493108957, 0.8047140635048596, 0.7804326147702568, 0.7662141784554966, 0.7452827151097761, 0.7316601956737401, 0.7223189751975684, 0.7063440446843527, 0.6991347827739662, 0.6797261861212118, 0.6683420507072801, 0.6572123893492137, 0.6586416733718543, 0.658599671268957, 0.6518630169508353, 0.6491101435165891, 0.6442034927534765, 0.6381231531062017, 0.6329584891192507]\n"
     ]
    },
    {
     "data": {
      "image/png": "[encoded data removed]",
      "text/plain": [
       "<Figure size 2000x1000 with 1 Axes>"
      ]
     },
     "metadata": {},
     "output_type": "display_data"
    }
   ],
   "source": [
    "r2_train_list = []\n",
    "r2_test_list = []\n",
    "k_values = range(2,21)\n",
    "for k in k_values:\n",
    " knn_reg = KNeighborsRegressor(n_neighbors=k , p=1)\n",
    " knn_reg.fit(normal_train_xdf,y_train)\n",
    " r2_train = knn_reg.score(normal_train_xdf,y_train)\n",
    " r2_train_list.append(r2_train)\n",
    "\n",
    " r2_test = knn_reg.score(normal_test_xdf,y_test)\n",
    " r2_test_list.append(r2_test)\n",
    "\n",
    "\n",
    "print(\"r2_train_list:\\n\", r2_train_list)\n",
    "print(\"*\"*80)\n",
    "print(\"r2_test_list:\\n\", r2_test_list)\n",
    "plt.figure(figsize = (20,10))\n",
    "plt.plot(k_values,r2_train_list)\n",
    "plt.plot(k_values,r2_test_list)\n",
    "plt.xlabel(\"K Values\")\n",
    "plt.ylabel(\"R2_Score\")\n",
    "plt.title(\"Comaprision between Train and Test R2_Score\")\n",
    "plt.savefig(\"K values comaprision.jpeg\")\n"
   ]
  },
  {
   "cell_type": "markdown",
   "metadata": {
    "id": "MiofdN3Fw3th"
   },
   "source": [
    "k=5 , p =1"
   ]
  },
  {
   "cell_type": "code",
   "execution_count": 26,
   "metadata": {
    "colab": {
     "base_uri": "https://localhost:8080/"
    },
    "id": "5VvSHp4mw0_N",
    "outputId": "9bdf6e69-4441-4533-b691-46cab8dd520c"
   },
   "outputs": [
    {
     "name": "stdout",
     "output_type": "stream",
     "text": [
      "MSE: 15.037803389830504\n",
      "RMSE: 3.877860671791923\n",
      "MAE : 2.602372881355932\n",
      "R-Squared value: 0.8289147081216097\n"
     ]
    }
   ],
   "source": [
    "knn_reg = KNeighborsRegressor(n_neighbors=5,p=1)\n",
    "knn_reg.fit(normal_train_xdf,y_train)\n",
    "#Training Data Accuracy\n",
    "y_pred_train = knn_reg.predict(normal_train_xdf)\n",
    "mse = mean_squared_error(y_train,y_pred_train)\n",
    "print(\"MSE:\",mse)\n",
    "rmse = np.sqrt(mse)\n",
    "print(\"RMSE:\",rmse)\n",
    "mae = mean_absolute_error(y_train,y_pred_train)\n",
    "print(\"MAE :\",mae)\n",
    "r2_value = r2_score(y_train,y_pred_train)\n",
    "print(\"R-Squared value:\",r2_value)"
   ]
  },
  {
   "cell_type": "code",
   "execution_count": 27,
   "metadata": {
    "colab": {
     "base_uri": "https://localhost:8080/"
    },
    "id": "IFNh4_nyw9pW",
    "outputId": "c4b78029-fd42-4c9b-c9fe-b41e43684901"
   },
   "outputs": [
    {
     "name": "stdout",
     "output_type": "stream",
     "text": [
      "MSE: 17.420105263157897\n",
      "RMSE: 4.173739961132928\n",
      "MAE : 2.710263157894737\n",
      "R-Squared value: 0.7662141784554966\n"
     ]
    }
   ],
   "source": [
    "array = normal_scalar.transform(x_test)\n",
    "normal_test_xdf = pd.DataFrame(array,columns = x_test.columns)\n",
    "normal_test_xdf\n",
    "#Testing data Accuracy\n",
    "y_pred = knn_reg.predict(normal_test_xdf)\n",
    "mse = mean_squared_error(y_test,y_pred)\n",
    "print(\"MSE:\",mse)\n",
    "rmse = np.sqrt(mse)\n",
    "print(\"RMSE:\",rmse)\n",
    "mae = mean_absolute_error(y_test,y_pred)\n",
    "print(\"MAE :\",mae)\n",
    "r2_value = r2_score(y_test,y_pred)\n",
    "print(\"R-Squared value:\",r2_value)\n"
   ]
  },
  {
   "cell_type": "markdown",
   "metadata": {
    "id": "_XyU_hnWxAxW"
   },
   "source": [
    "#STAGE 5\n",
    "Standardization\n",
    "Train the model by Default values of K and p"
   ]
  },
  {
   "cell_type": "code",
   "execution_count": 28,
   "metadata": {
    "colab": {
     "base_uri": "https://localhost:8080/",
     "height": 460
    },
    "id": "Hgv4SgoNw-sP",
    "outputId": "f7abceb7-dfd8-4d6c-d0af-c735390cfc4c"
   },
   "outputs": [
    {
     "data": {
      "text/html": [
       "<div>\n",
       "<style scoped>\n",
       "    .dataframe tbody tr th:only-of-type {\n",
       "        vertical-align: middle;\n",
       "    }\n",
       "\n",
       "    .dataframe tbody tr th {\n",
       "        vertical-align: top;\n",
       "    }\n",
       "\n",
       "    .dataframe thead th {\n",
       "        text-align: right;\n",
       "    }\n",
       "</style>\n",
       "<table border=\"1\" class=\"dataframe\">\n",
       "  <thead>\n",
       "    <tr style=\"text-align: right;\">\n",
       "      <th></th>\n",
       "      <th>Unnamed: 0</th>\n",
       "      <th>crim</th>\n",
       "      <th>zn</th>\n",
       "      <th>indus</th>\n",
       "      <th>chas</th>\n",
       "      <th>nox</th>\n",
       "      <th>rm</th>\n",
       "      <th>age</th>\n",
       "      <th>dis</th>\n",
       "      <th>rad</th>\n",
       "      <th>tax</th>\n",
       "      <th>ptratio</th>\n",
       "      <th>black</th>\n",
       "      <th>lstat</th>\n",
       "    </tr>\n",
       "  </thead>\n",
       "  <tbody>\n",
       "    <tr>\n",
       "      <th>0</th>\n",
       "      <td>-1.753443</td>\n",
       "      <td>-0.414259</td>\n",
       "      <td>-0.505125</td>\n",
       "      <td>-1.292142</td>\n",
       "      <td>-0.281546</td>\n",
       "      <td>-0.851085</td>\n",
       "      <td>0.145264</td>\n",
       "      <td>-0.365584</td>\n",
       "      <td>1.081628</td>\n",
       "      <td>-0.746179</td>\n",
       "      <td>-1.112790</td>\n",
       "      <td>0.187271</td>\n",
       "      <td>0.396514</td>\n",
       "      <td>-1.015316</td>\n",
       "    </tr>\n",
       "    <tr>\n",
       "      <th>1</th>\n",
       "      <td>-0.966026</td>\n",
       "      <td>-0.402008</td>\n",
       "      <td>-0.505125</td>\n",
       "      <td>-0.162083</td>\n",
       "      <td>-0.281546</td>\n",
       "      <td>-0.087967</td>\n",
       "      <td>-0.208401</td>\n",
       "      <td>0.133941</td>\n",
       "      <td>-0.487876</td>\n",
       "      <td>-0.398464</td>\n",
       "      <td>0.150088</td>\n",
       "      <td>-0.212090</td>\n",
       "      <td>0.387067</td>\n",
       "      <td>-0.053663</td>\n",
       "    </tr>\n",
       "    <tr>\n",
       "      <th>2</th>\n",
       "      <td>-1.469689</td>\n",
       "      <td>-0.397211</td>\n",
       "      <td>-0.505125</td>\n",
       "      <td>-0.609489</td>\n",
       "      <td>-0.281546</td>\n",
       "      <td>-0.936828</td>\n",
       "      <td>-0.896237</td>\n",
       "      <td>-1.266900</td>\n",
       "      <td>0.628596</td>\n",
       "      <td>-0.746179</td>\n",
       "      <td>-1.046639</td>\n",
       "      <td>-0.167716</td>\n",
       "      <td>0.428541</td>\n",
       "      <td>-0.311324</td>\n",
       "    </tr>\n",
       "    <tr>\n",
       "      <th>3</th>\n",
       "      <td>-1.675411</td>\n",
       "      <td>-0.290936</td>\n",
       "      <td>-0.505125</td>\n",
       "      <td>-0.431970</td>\n",
       "      <td>-0.281546</td>\n",
       "      <td>-0.165136</td>\n",
       "      <td>-0.543965</td>\n",
       "      <td>-1.429789</td>\n",
       "      <td>0.345133</td>\n",
       "      <td>-0.630274</td>\n",
       "      <td>-0.601625</td>\n",
       "      <td>1.207859</td>\n",
       "      <td>0.312760</td>\n",
       "      <td>-0.822422</td>\n",
       "    </tr>\n",
       "    <tr>\n",
       "      <th>4</th>\n",
       "      <td>1.531009</td>\n",
       "      <td>1.457816</td>\n",
       "      <td>-0.505125</td>\n",
       "      <td>1.005500</td>\n",
       "      <td>-0.281546</td>\n",
       "      <td>0.194987</td>\n",
       "      <td>-0.556496</td>\n",
       "      <td>0.079645</td>\n",
       "      <td>-0.403892</td>\n",
       "      <td>1.687825</td>\n",
       "      <td>1.557294</td>\n",
       "      <td>0.852872</td>\n",
       "      <td>0.104124</td>\n",
       "      <td>0.803800</td>\n",
       "    </tr>\n",
       "    <tr>\n",
       "      <th>...</th>\n",
       "      <td>...</td>\n",
       "      <td>...</td>\n",
       "      <td>...</td>\n",
       "      <td>...</td>\n",
       "      <td>...</td>\n",
       "      <td>...</td>\n",
       "      <td>...</td>\n",
       "      <td>...</td>\n",
       "      <td>...</td>\n",
       "      <td>...</td>\n",
       "      <td>...</td>\n",
       "      <td>...</td>\n",
       "      <td>...</td>\n",
       "      <td>...</td>\n",
       "    </tr>\n",
       "    <tr>\n",
       "      <th>349</th>\n",
       "      <td>-1.036964</td>\n",
       "      <td>-0.397237</td>\n",
       "      <td>-0.505125</td>\n",
       "      <td>-0.371354</td>\n",
       "      <td>-0.281546</td>\n",
       "      <td>-0.319475</td>\n",
       "      <td>-0.681810</td>\n",
       "      <td>0.836171</td>\n",
       "      <td>-0.732385</td>\n",
       "      <td>-0.514369</td>\n",
       "      <td>-0.138570</td>\n",
       "      <td>1.163486</td>\n",
       "      <td>0.414371</td>\n",
       "      <td>0.878423</td>\n",
       "    </tr>\n",
       "    <tr>\n",
       "      <th>350</th>\n",
       "      <td>0.126427</td>\n",
       "      <td>-0.381828</td>\n",
       "      <td>0.380752</td>\n",
       "      <td>-0.602272</td>\n",
       "      <td>-0.281546</td>\n",
       "      <td>-0.799639</td>\n",
       "      <td>-0.653963</td>\n",
       "      <td>-0.966462</td>\n",
       "      <td>0.312349</td>\n",
       "      <td>-0.746179</td>\n",
       "      <td>-1.106776</td>\n",
       "      <td>0.142897</td>\n",
       "      <td>0.333497</td>\n",
       "      <td>0.081504</td>\n",
       "    </tr>\n",
       "    <tr>\n",
       "      <th>351</th>\n",
       "      <td>0.679747</td>\n",
       "      <td>-0.416046</td>\n",
       "      <td>3.038382</td>\n",
       "      <td>-1.316677</td>\n",
       "      <td>-0.281546</td>\n",
       "      <td>-1.048295</td>\n",
       "      <td>0.430702</td>\n",
       "      <td>-1.415310</td>\n",
       "      <td>2.156415</td>\n",
       "      <td>-0.630274</td>\n",
       "      <td>-0.763995</td>\n",
       "      <td>-0.567077</td>\n",
       "      <td>0.359879</td>\n",
       "      <td>-0.905493</td>\n",
       "    </tr>\n",
       "    <tr>\n",
       "      <th>352</th>\n",
       "      <td>1.296912</td>\n",
       "      <td>0.926113</td>\n",
       "      <td>-0.505125</td>\n",
       "      <td>1.005500</td>\n",
       "      <td>-0.281546</td>\n",
       "      <td>1.566884</td>\n",
       "      <td>0.422348</td>\n",
       "      <td>0.933904</td>\n",
       "      <td>-0.773035</td>\n",
       "      <td>1.687825</td>\n",
       "      <td>1.557294</td>\n",
       "      <td>0.852872</td>\n",
       "      <td>-2.878413</td>\n",
       "      <td>1.527504</td>\n",
       "    </tr>\n",
       "    <tr>\n",
       "      <th>353</th>\n",
       "      <td>-1.065340</td>\n",
       "      <td>-0.390305</td>\n",
       "      <td>-0.505125</td>\n",
       "      <td>-0.371354</td>\n",
       "      <td>-0.281546</td>\n",
       "      <td>-0.319475</td>\n",
       "      <td>0.110454</td>\n",
       "      <td>0.600888</td>\n",
       "      <td>-0.495130</td>\n",
       "      <td>-0.514369</td>\n",
       "      <td>-0.138570</td>\n",
       "      <td>1.163486</td>\n",
       "      <td>-3.328288</td>\n",
       "      <td>-0.252188</td>\n",
       "    </tr>\n",
       "  </tbody>\n",
       "</table>\n",
       "<p>354 rows × 14 columns</p>\n",
       "</div>"
      ],
      "text/plain": [
       "     Unnamed: 0      crim        zn     indus      chas       nox        rm  \\\n",
       "0     -1.753443 -0.414259 -0.505125 -1.292142 -0.281546 -0.851085  0.145264   \n",
       "1     -0.966026 -0.402008 -0.505125 -0.162083 -0.281546 -0.087967 -0.208401   \n",
       "2     -1.469689 -0.397211 -0.505125 -0.609489 -0.281546 -0.936828 -0.896237   \n",
       "3     -1.675411 -0.290936 -0.505125 -0.431970 -0.281546 -0.165136 -0.543965   \n",
       "4      1.531009  1.457816 -0.505125  1.005500 -0.281546  0.194987 -0.556496   \n",
       "..          ...       ...       ...       ...       ...       ...       ...   \n",
       "349   -1.036964 -0.397237 -0.505125 -0.371354 -0.281546 -0.319475 -0.681810   \n",
       "350    0.126427 -0.381828  0.380752 -0.602272 -0.281546 -0.799639 -0.653963   \n",
       "351    0.679747 -0.416046  3.038382 -1.316677 -0.281546 -1.048295  0.430702   \n",
       "352    1.296912  0.926113 -0.505125  1.005500 -0.281546  1.566884  0.422348   \n",
       "353   -1.065340 -0.390305 -0.505125 -0.371354 -0.281546 -0.319475  0.110454   \n",
       "\n",
       "          age       dis       rad       tax   ptratio     black     lstat  \n",
       "0   -0.365584  1.081628 -0.746179 -1.112790  0.187271  0.396514 -1.015316  \n",
       "1    0.133941 -0.487876 -0.398464  0.150088 -0.212090  0.387067 -0.053663  \n",
       "2   -1.266900  0.628596 -0.746179 -1.046639 -0.167716  0.428541 -0.311324  \n",
       "3   -1.429789  0.345133 -0.630274 -0.601625  1.207859  0.312760 -0.822422  \n",
       "4    0.079645 -0.403892  1.687825  1.557294  0.852872  0.104124  0.803800  \n",
       "..        ...       ...       ...       ...       ...       ...       ...  \n",
       "349  0.836171 -0.732385 -0.514369 -0.138570  1.163486  0.414371  0.878423  \n",
       "350 -0.966462  0.312349 -0.746179 -1.106776  0.142897  0.333497  0.081504  \n",
       "351 -1.415310  2.156415 -0.630274 -0.763995 -0.567077  0.359879 -0.905493  \n",
       "352  0.933904 -0.773035  1.687825  1.557294  0.852872 -2.878413  1.527504  \n",
       "353  0.600888 -0.495130 -0.514369 -0.138570  1.163486 -3.328288 -0.252188  \n",
       "\n",
       "[354 rows x 14 columns]"
      ]
     },
     "execution_count": 28,
     "metadata": {},
     "output_type": "execute_result"
    }
   ],
   "source": [
    "std_scalar = StandardScaler()\n",
    "std_scalar.fit(x_train) # we are storing maximun and minimun values\n",
    "array = std_scalar.transform(x_train)\n",
    "std_train_xdf = pd.DataFrame(array,columns = x_train.columns)\n",
    "std_train_xdf\n"
   ]
  },
  {
   "cell_type": "code",
   "execution_count": 29,
   "metadata": {
    "colab": {
     "base_uri": "https://localhost:8080/"
    },
    "id": "hj14A06fxGIn",
    "outputId": "f5a917a7-ddd4-464b-caf8-b8043e7f4988"
   },
   "outputs": [
    {
     "name": "stdout",
     "output_type": "stream",
     "text": [
      "MSE: 13.890862146892657\n",
      "RMSE: 3.7270446934391135\n",
      "MAE : 2.475649717514124\n",
      "R-Squared value: 0.8419634741034875\n"
     ]
    }
   ],
   "source": [
    "knn_reg = KNeighborsRegressor()\n",
    "knn_reg.fit(std_train_xdf,y_train)\n",
    "#Training Data Accuracy\n",
    "y_pred_train = knn_reg.predict(std_train_xdf)\n",
    "mse = mean_squared_error(y_train,y_pred_train)\n",
    "print(\"MSE:\",mse)\n",
    "rmse = np.sqrt(mse)\n",
    "print(\"RMSE:\",rmse)\n",
    "mae = mean_absolute_error(y_train,y_pred_train)\n",
    "print(\"MAE :\",mae)\n",
    "r2_value = r2_score(y_train,y_pred_train)\n",
    "print(\"R-Squared value:\",r2_value)"
   ]
  },
  {
   "cell_type": "code",
   "execution_count": 30,
   "metadata": {
    "colab": {
     "base_uri": "https://localhost:8080/"
    },
    "id": "3DHdMrPExKmH",
    "outputId": "2b9502e1-0c19-4aeb-a6c7-76c5f4915c3c"
   },
   "outputs": [
    {
     "name": "stdout",
     "output_type": "stream",
     "text": [
      "MSE: 19.465984210526315\n",
      "RMSE: 4.412027222323806\n",
      "MAE : 2.650526315789474\n",
      "R-Squared value: 0.7387575423866726\n"
     ]
    }
   ],
   "source": [
    "array = std_scalar.transform(x_test)\n",
    "std_test_xdf = pd.DataFrame(array,columns = x_test.columns)\n",
    "#Testing data Accuracy\n",
    "y_pred = knn_reg.predict(std_test_xdf)\n",
    "mse = mean_squared_error(y_test,y_pred)\n",
    "print(\"MSE:\",mse)\n",
    "rmse = np.sqrt(mse)\n",
    "print(\"RMSE:\",rmse)\n",
    "mae = mean_absolute_error(y_test,y_pred)\n",
    "print(\"MAE :\",mae)\n",
    "r2_value = r2_score(y_test,y_pred)\n",
    "print(\"R-Squared value:\",r2_value)"
   ]
  },
  {
   "cell_type": "markdown",
   "metadata": {
    "id": "eRZrHwBixTzF"
   },
   "source": [
    "#STAGE 6\n",
    "Train the model by Best values of K and p"
   ]
  },
  {
   "cell_type": "code",
   "execution_count": 31,
   "metadata": {
    "colab": {
     "base_uri": "https://localhost:8080/",
     "height": 673
    },
    "id": "5N8SivUBxQGO",
    "outputId": "dafc6534-b028-4546-e274-f4758ae84e98"
   },
   "outputs": [
    {
     "name": "stdout",
     "output_type": "stream",
     "text": [
      "r2_train_list:\n",
      " [0.9297453348370839, 0.900293653613252, 0.8820851693727689, 0.8521662769494527, 0.8297839340913208, 0.7945517248365062, 0.7760783950190356, 0.7704626229244451, 0.7651247705473107, 0.7484627446600078, 0.7335649449733765, 0.7266625882100195, 0.7138854657398119, 0.7058069734230377, 0.7008290785750032, 0.696695995612157, 0.6920520240256381, 0.6872201957870349, 0.6859986557609542]\n",
      "********************************************************************************\n",
      "r2_test_list:\n",
      " [0.790498456228901, 0.7651557868467908, 0.7615333295816766, 0.7424130284038826, 0.732103146725021, 0.7484240400735731, 0.7355109367220676, 0.7288823508379907, 0.7266784310999265, 0.7245351325263987, 0.7147872219461403, 0.7038419982693911, 0.6939285496589226, 0.692839360865991, 0.6852405956929897, 0.6821141207577397, 0.6794210213338645, 0.6746804419334503, 0.6679635201652165]\n"
     ]
    },
    {
     "data": {
      "image/png": "[encoded data removed]",
      "text/plain": [
       "<Figure size 2000x1000 with 1 Axes>"
      ]
     },
     "metadata": {},
     "output_type": "display_data"
    }
   ],
   "source": [
    "r2_train_list = []\n",
    "r2_test_list = []\n",
    "k_values = range(2,21)\n",
    "for k in k_values:\n",
    " knn_reg = KNeighborsRegressor(n_neighbors=k , p=1)\n",
    " knn_reg.fit(std_train_xdf,y_train)\n",
    " r2_train = knn_reg.score(std_train_xdf,y_train)\n",
    " r2_train_list.append(r2_train)\n",
    "\n",
    " r2_test = knn_reg.score(std_test_xdf,y_test)\n",
    " r2_test_list.append(r2_test)\n",
    "\n",
    "\n",
    "print(\"r2_train_list:\\n\", r2_train_list)\n",
    "print(\"*\"*80)\n",
    "print(\"r2_test_list:\\n\", r2_test_list)\n",
    "plt.figure(figsize = (20,10))\n",
    "plt.plot(k_values,r2_train_list)\n",
    "plt.plot(k_values,r2_test_list)\n",
    "plt.xlabel(\"K Values\")\n",
    "plt.ylabel(\"R2_Score\")\n",
    "plt.title(\"Comaprision between Train and Test R2_Score\")\n",
    "plt.savefig(\"K values comaprision.jpeg\")\n"
   ]
  },
  {
   "cell_type": "markdown",
   "metadata": {
    "id": "I28olby_xbRG"
   },
   "source": [
    "k=8, p=1"
   ]
  },
  {
   "cell_type": "code",
   "execution_count": 32,
   "metadata": {
    "colab": {
     "base_uri": "https://localhost:8080/"
    },
    "id": "tSPcIOxYxZQW",
    "outputId": "c783f5c9-0dd2-4f69-d2c7-2c96d5d8d827"
   },
   "outputs": [
    {
     "name": "stdout",
     "output_type": "stream",
     "text": [
      "MSE: 18.05819036089012\n",
      "RMSE: 4.249492953387512\n",
      "MAE : 2.748547215496368\n",
      "R-Squared value: 0.7945517248365062\n"
     ]
    }
   ],
   "source": [
    "knn_reg = KNeighborsRegressor(n_neighbors=7,p=1)\n",
    "knn_reg.fit(std_train_xdf,y_train)\n",
    "#Training Data Accuracy\n",
    "y_pred_train = knn_reg.predict(std_train_xdf)\n",
    "mse = mean_squared_error(y_train,y_pred_train)\n",
    "print(\"MSE:\",mse)\n",
    "rmse = np.sqrt(mse)\n",
    "print(\"RMSE:\",rmse)\n",
    "mae = mean_absolute_error(y_train,y_pred_train)\n",
    "print(\"MAE :\",mae)\n",
    "r2_value = r2_score(y_train,y_pred_train)\n",
    "print(\"R-Squared value:\",r2_value)"
   ]
  },
  {
   "cell_type": "code",
   "execution_count": 33,
   "metadata": {
    "colab": {
     "base_uri": "https://localhost:8080/"
    },
    "id": "yE-WkZ4QxfUh",
    "outputId": "2ac04279-c318-4ede-ece5-8a47158e5969"
   },
   "outputs": [
    {
     "name": "stdout",
     "output_type": "stream",
     "text": [
      "MSE: 18.74570354457573\n",
      "RMSE: 4.329630878559479\n",
      "MAE : 2.731203007518797\n",
      "R-Squared value: 0.7484240400735731\n"
     ]
    }
   ],
   "source": [
    "array = std_scalar.transform(x_test)\n",
    "std_test_xdf = pd.DataFrame(array,columns = x_test.columns)\n",
    "#Testing data Accuracy\n",
    "y_pred = knn_reg.predict(std_test_xdf)\n",
    "mse = mean_squared_error(y_test,y_pred)\n",
    "print(\"MSE:\",mse)\n",
    "rmse = np.sqrt(mse)\n",
    "print(\"RMSE:\",rmse)\n",
    "mae = mean_absolute_error(y_test,y_pred)\n",
    "print(\"MAE :\",mae)\n",
    "r2_value = r2_score(y_test,y_pred)\n",
    "print(\"R-Squared value:\",r2_value)\n"
   ]
  },
  {
   "cell_type": "markdown",
   "metadata": {
    "id": "TOBdldqvxlJe"
   },
   "source": [
    "finally go for stdandardization"
   ]
  },
  {
   "cell_type": "code",
   "execution_count": 34,
   "metadata": {
    "colab": {
     "base_uri": "https://localhost:8080/"
    },
    "id": "ABsXfhFUxiZg",
    "outputId": "702e87c3-8500-4172-a666-deec88374b50"
   },
   "outputs": [
    {
     "data": {
      "text/plain": [
       "Index(['Unnamed: 0', 'crim', 'zn', 'indus', 'chas', 'nox', 'rm', 'age', 'dis',\n",
       "       'rad', 'tax', 'ptratio', 'black', 'lstat'],\n",
       "      dtype='object')"
      ]
     },
     "execution_count": 34,
     "metadata": {},
     "output_type": "execute_result"
    }
   ],
   "source": [
    "x_test.columns\n"
   ]
  },
  {
   "cell_type": "code",
   "execution_count": 35,
   "metadata": {},
   "outputs": [],
   "source": [
    "import pickle\n",
    "file = open(\"expense_model.pkl\", 'wb')\n",
    "pickle.dump(knn_reg, file)"
   ]
  },
  {
   "cell_type": "code",
   "execution_count": null,
   "metadata": {},
   "outputs": [],
   "source": []
  },
  {
   "cell_type": "code",
   "execution_count": null,
   "metadata": {},
   "outputs": [],
   "source": []
  },
  {
   "cell_type": "code",
   "execution_count": null,
   "metadata": {},
   "outputs": [],
   "source": []
  },
  {
   "cell_type": "code",
   "execution_count": null,
   "metadata": {},
   "outputs": [],
   "source": []
  },
  {
   "cell_type": "code",
   "execution_count": null,
   "metadata": {},
   "outputs": [],
   "source": []
  },
  {
   "cell_type": "code",
   "execution_count": null,
   "metadata": {},
   "outputs": [],
   "source": []
  },
  {
   "cell_type": "code",
   "execution_count": null,
   "metadata": {},
   "outputs": [],
   "source": []
  },
  {
   "cell_type": "code",
   "execution_count": null,
   "metadata": {},
   "outputs": [],
   "source": []
  },
  {
   "cell_type": "code",
   "execution_count": null,
   "metadata": {},
   "outputs": [],
   "source": []
  },
  {
   "cell_type": "code",
   "execution_count": null,
   "metadata": {},
   "outputs": [],
   "source": []
  },
  {
   "cell_type": "code",
   "execution_count": null,
   "metadata": {},
   "outputs": [],
   "source": []
  },
  {
   "cell_type": "code",
   "execution_count": null,
   "metadata": {},
   "outputs": [],
   "source": []
  },
  {
   "cell_type": "code",
   "execution_count": null,
   "metadata": {},
   "outputs": [],
   "source": []
  },
  {
   "cell_type": "code",
   "execution_count": null,
   "metadata": {},
   "outputs": [],
   "source": []
  },
  {
   "cell_type": "code",
   "execution_count": null,
   "metadata": {},
   "outputs": [],
   "source": []
  },
  {
   "cell_type": "code",
   "execution_count": null,
   "metadata": {},
   "outputs": [],
   "source": []
  },
  {
   "cell_type": "code",
   "execution_count": null,
   "metadata": {},
   "outputs": [],
   "source": []
  },
  {
   "cell_type": "code",
   "execution_count": null,
   "metadata": {},
   "outputs": [],
   "source": []
  },
  {
   "cell_type": "code",
   "execution_count": null,
   "metadata": {},
   "outputs": [],
   "source": []
  },
  {
   "cell_type": "code",
   "execution_count": null,
   "metadata": {},
   "outputs": [],
   "source": []
  }
 ],
 "metadata": {
  "colab": {
   "provenance": []
  },
  "kernelspec": {
   "display_name": "Python 3 (ipykernel)",
   "language": "python",
   "name": "python3"
  },
  "language_info": {
   "codemirror_mode": {
    "name": "ipython",
    "version": 3
   },
   "file_extension": ".py",
   "mimetype": "text/x-python",
   "name": "python",
   "nbconvert_exporter": "python",
   "pygments_lexer": "ipython3",
   "version": "3.11.5"
  }
 },
 "nbformat": 4,
 "nbformat_minor": 1
}
